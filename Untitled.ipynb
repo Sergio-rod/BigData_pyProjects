{
 "cells": [
  {
   "cell_type": "code",
   "execution_count": 1,
   "id": "7fa7915e-e013-4816-80ec-d5eda967a1d1",
   "metadata": {},
   "outputs": [],
   "source": [
    "from sklearn import (datasets,model_selection as skms, neighbors, metrics as mt, linear_model as lm)\n",
    "import sqlite3, pandas as pd"
   ]
  },
  {
   "cell_type": "code",
   "execution_count": 2,
   "id": "7f588d0f-82b2-48b5-88c8-65a5dccf985b",
   "metadata": {},
   "outputs": [
    {
     "name": "stdout",
     "output_type": "stream",
     "text": [
      "    car_age  price\n",
      "0         4  63000\n",
      "1         4  58000\n",
      "2         5  57000\n",
      "3         5  45000\n",
      "4         7  45000\n",
      "5         7  42000\n",
      "6         8  41000\n",
      "7         9  31000\n",
      "8        10  21000\n",
      "9        11  25000\n",
      "10       12  22000\n"
     ]
    }
   ],
   "source": [
    "\"\"\"Conexión a base de datos y consulta simple\"\"\"\n",
    "conn = sqlite3.connect('car.db')\n",
    "\n",
    "carData=pd.read_sql('Select * from car',conn)\n",
    "\n",
    "\n",
    "\n",
    "type(carData)\n",
    "print(carData)"
   ]
  },
  {
   "cell_type": "code",
   "execution_count": 3,
   "id": "b8abe246-886e-4772-8f1d-d4dd34b7e796",
   "metadata": {},
   "outputs": [
    {
     "name": "stdout",
     "output_type": "stream",
     "text": [
      "    car_age\n",
      "0         4\n",
      "1         4\n",
      "2         5\n",
      "3         5\n",
      "4         7\n",
      "5         7\n",
      "6         8\n",
      "7         9\n",
      "8        10\n",
      "9        11\n",
      "10       12     price\n",
      "0   63000\n",
      "1   58000\n",
      "2   57000\n",
      "3   45000\n",
      "4   45000\n",
      "5   42000\n",
      "6   41000\n",
      "7   31000\n",
      "8   21000\n",
      "9   25000\n",
      "10  22000\n"
     ]
    }
   ],
   "source": [
    "x = carData.iloc[:,:-1]\n",
    "y = carData.iloc[:,-1:]\n",
    "\n",
    "print(x,y)"
   ]
  },
  {
   "cell_type": "code",
   "execution_count": 4,
   "id": "aca80297-79bc-495a-8edc-f53ba8876af5",
   "metadata": {},
   "outputs": [],
   "source": [
    "x_train,x_test,y_train,y_test = skms.train_test_split(x,y,test_size= .1, random_state=0)"
   ]
  },
  {
   "cell_type": "code",
   "execution_count": 5,
   "id": "522417df-c0ed-47f2-ad6b-63309338f8f7",
   "metadata": {},
   "outputs": [
    {
     "name": "stdout",
     "output_type": "stream",
     "text": [
      "predicciones: \n",
      "valor 0 = [42792.80821918] pesos\n",
      "valor 1 = [22251.71232877] pesos\n",
      "valores reales: \n",
      "   price\n",
      "4  45000\n",
      "9  25000\n",
      "R^2: 0.9378760965941076 % de efectividad\n",
      "Para un carro de 3 años, costo de: [[63333.90410959]] pesos\n"
     ]
    }
   ],
   "source": [
    "\"\"\"Prueba modelo de regresión\"\"\"\n",
    "#clasificador knn\n",
    "model = lm.LinearRegression().fit(x_train,y_train)\n",
    "#entrenamiento\n",
    "\n",
    "\n",
    "#mandamos datos a predecir e imprimimos \n",
    "\n",
    "predict = model.predict(x_test)\n",
    "\n",
    "#predichos\n",
    "print(\"predicciones: \")\n",
    "\n",
    "for i in range(0,len(predict)):\n",
    "    print(\"valor\",i,'=',predict[i],\"pesos\")\n",
    "\n",
    "#Valores reales\n",
    "print(\"valores reales: \")\n",
    "print(y_test)\n",
    "\n",
    "#Efectividad\n",
    "score= mt.r2_score(y_test,predict)#\n",
    "\n",
    "print( \"R^2:\",score,\"% de efectividad\")\n",
    "\n",
    "#Carro con 3 años de antiguedad\n",
    "\n",
    "\n",
    "car3 = pd.DataFrame({'car_age':[3]})\n",
    "\n",
    "\n",
    "predict3 = model.predict(car3)\n",
    "\n",
    "print(\"Para un carro de 3 años, costo de:\",predict3,\"pesos\")"
   ]
  },
  {
   "cell_type": "code",
   "execution_count": null,
   "id": "53f2ba4c-69c8-4e9e-ad0f-2193b325924e",
   "metadata": {},
   "outputs": [],
   "source": []
  }
 ],
 "metadata": {
  "kernelspec": {
   "display_name": "Python 3 (ipykernel)",
   "language": "python",
   "name": "python3"
  },
  "language_info": {
   "codemirror_mode": {
    "name": "ipython",
    "version": 3
   },
   "file_extension": ".py",
   "mimetype": "text/x-python",
   "name": "python",
   "nbconvert_exporter": "python",
   "pygments_lexer": "ipython3",
   "version": "3.9.13"
  }
 },
 "nbformat": 4,
 "nbformat_minor": 5
}
