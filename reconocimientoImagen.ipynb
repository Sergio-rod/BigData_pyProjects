{
 "cells": [
  {
   "cell_type": "code",
   "execution_count": 2,
   "id": "e0413ec4-3d61-442d-b299-6446f1be47d8",
   "metadata": {},
   "outputs": [
    {
     "data": {
      "image/png": "[encoded data removed]",
      "text/plain": [
       "<Figure size 640x480 with 1 Axes>"
      ]
     },
     "metadata": {},
     "output_type": "display_data"
    }
   ],
   "source": [
    "import matplotlib.pyplot as plt\n",
    "from sklearn import datasets, svm, metrics\n",
    "\n",
    "from PIL import Image\n",
    "\n",
    "# Preparación de la imagen personalizada\n",
    "custom_image = Image.open('2.jpg')\n",
    "custom_image = custom_image.resize((8, 8))  # Redimensiona a 8x8 píxeles si es necesario\n",
    "custom_image = custom_image.convert(\"L\")  # Convierte a escala de grises si es necesario\n",
    "custom_data = list(custom_image.getdata())\n",
    "\n",
    "# Creación del clasificador SVM\n",
    "clf = svm.SVC(gamma=0.001)\n",
    "\n",
    "# Cargar el conjunto de datos MNIST\n",
    "digits = datasets.load_digits()\n",
    "data = digits.images.reshape((len(digits.images), -1))\n",
    "target = digits.target\n",
    "\n",
    "# Entrenar el clasificador con los datos de MNIST\n",
    "clf.fit(data, target)\n",
    "\n",
    "# Predecir el dígito de la imagen personalizada\n",
    "predicted_digit = clf.predict([custom_data])\n",
    "\n",
    "# Visualizar la imagen personalizada y la predicción\n",
    "_, ax = plt.subplots()\n",
    "ax.set_axis_off()\n",
    "ax.imshow(custom_image, cmap=plt.cm.gray_r, interpolation=\"nearest\")\n",
    "ax.set_title(f\"Prediction: {predicted_digit[0]}\")\n",
    "plt.show()"
   ]
  },
  {
   "cell_type": "code",
   "execution_count": null,
   "id": "2f8df380-6b1f-4d7c-9db7-b3f56db0073f",
   "metadata": {},
   "outputs": [],
   "source": [
    "import tensorflow as tf\n",
    "from tensorflow import keras\n",
    "from tensorflow.keras import layers\n",
    "\n",
    "# Cargar el conjunto de datos de letras\n",
    "dataset = keras.datasets.mnist\n",
    "(train_images, train_labels), (test_images, test_labels) = dataset.load_data()\n",
    "\n",
    "# Preprocesamiento de los datos\n",
    "train_images = train_images / 255.0\n",
    "test_images = test_images / 255.0\n",
    "\n",
    "# Definir la arquitectura del modelo\n",
    "model = keras.Sequential([\n",
    "    layers.Flatten(input_shape=(28, 28)),\n",
    "    layers.Dense(128, activation='relu'),\n",
    "    layers.Dense(26, activation='softmax')\n",
    "])\n",
    "\n",
    "# Compilar el modelo\n",
    "model.compile(optimizer='adam', loss='sparse_categorical_crossentropy', metrics=['accuracy'])\n",
    "\n",
    "# Entrenar el modelo\n",
    "model.fit(train_images, train_labels, epochs=10, batch_size=32)\n",
    "\n",
    "# Evaluar el modelo\n",
    "test_loss, test_accuracy = model.evaluate(test_images, test_labels)\n",
    "print(f'Test Loss: {test_loss}')\n",
    "print(f'Test Accuracy: {test_accuracy}')"
   ]
  },
  {
   "cell_type": "code",
   "execution_count": null,
   "id": "9644ef49-0f85-4e6e-91ca-6f65ab906839",
   "metadata": {},
   "outputs": [],
   "source": []
  }
 ],
 "metadata": {
  "kernelspec": {
   "display_name": "Python 3 (ipykernel)",
   "language": "python",
   "name": "python3"
  },
  "language_info": {
   "codemirror_mode": {
    "name": "ipython",
    "version": 3
   },
   "file_extension": ".py",
   "mimetype": "text/x-python",
   "name": "python",
   "nbconvert_exporter": "python",
   "pygments_lexer": "ipython3",
   "version": "3.9.13"
  }
 },
 "nbformat": 4,
 "nbformat_minor": 5
}
