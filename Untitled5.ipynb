{
 "cells": [
  {
   "cell_type": "code",
   "execution_count": 1,
   "id": "1ef38ce3-118f-44f1-b7c1-b29df5ea2697",
   "metadata": {},
   "outputs": [],
   "source": [
    "%matplotlib inline"
   ]
  },
  {
   "cell_type": "code",
   "execution_count": 3,
   "id": "04efa2ad-4068-4db3-887f-bdfa6aa49175",
   "metadata": {},
   "outputs": [
    {
     "name": "stderr",
     "output_type": "stream",
     "text": [
      "/opt/anaconda3/lib/python3.9/site-packages/sklearn/datasets/_openml.py:65: RuntimeWarning: Invalid cache, redownloading file\n",
      "  warn(\"Invalid cache, redownloading file\", RuntimeWarning)\n"
     ]
    }
   ],
   "source": [
    "import numpy as np\n",
    "from sklearn.datasets import fetch_openml\n",
    "from sklearn.preprocessing import MinMaxScaler\n",
    "from sklearn.model_selection import train_test_split\n",
    "\n",
    "X, y = fetch_openml(data_id=41082, as_frame=False, return_X_y=True)\n",
    "X = MinMaxScaler().fit_transform(X)"
   ]
  },
  {
   "cell_type": "code",
   "execution_count": 4,
   "id": "5476955f-e44c-4b65-af59-19974548f828",
   "metadata": {},
   "outputs": [],
   "source": [
    "import matplotlib.pyplot as plt\n",
    "\n",
    "\n",
    "def plot_digits(X, title):\n",
    "    \"\"\"Small helper function to plot 100 digits.\"\"\"\n",
    "    fig, axs = plt.subplots(nrows=10, ncols=10, figsize=(8, 8))\n",
    "    for img, ax in zip(X, axs.ravel()):\n",
    "        ax.imshow(img.reshape((16, 16)), cmap=\"Greys\")\n",
    "        ax.axis(\"off\")\n",
    "    fig.suptitle(title, fontsize=24)"
   ]
  },
  {
   "cell_type": "code",
   "execution_count": 5,
   "id": "3020808c-6895-493a-8a6c-55c4c1fc18d5",
   "metadata": {},
   "outputs": [
    {
     "ename": "NameError",
     "evalue": "name 'X_test' is not defined",
     "output_type": "error",
     "traceback": [
      "\u001b[0;31m---------------------------------------------------------------------------\u001b[0m",
      "\u001b[0;31mNameError\u001b[0m                                 Traceback (most recent call last)",
      "\u001b[0;32m/var/folders/j1/kz3z3tjs3hs4p05v1648fvs00000gn/T/ipykernel_7829/956326420.py\u001b[0m in \u001b[0;36m<module>\u001b[0;34m\u001b[0m\n\u001b[0;32m----> 1\u001b[0;31m \u001b[0mplot_digits\u001b[0m\u001b[0;34m(\u001b[0m\u001b[0mX_test\u001b[0m\u001b[0;34m,\u001b[0m \u001b[0;34m\"Uncorrupted test images\"\u001b[0m\u001b[0;34m)\u001b[0m\u001b[0;34m\u001b[0m\u001b[0;34m\u001b[0m\u001b[0m\n\u001b[0m\u001b[1;32m      2\u001b[0m plot_digits(\n\u001b[1;32m      3\u001b[0m     \u001b[0mX_test_noisy\u001b[0m\u001b[0;34m,\u001b[0m \u001b[0;34mf\"Noisy test images\\nMSE: {np.mean((X_test - X_test_noisy) ** 2):.2f}\"\u001b[0m\u001b[0;34m\u001b[0m\u001b[0;34m\u001b[0m\u001b[0m\n\u001b[1;32m      4\u001b[0m )\n",
      "\u001b[0;31mNameError\u001b[0m: name 'X_test' is not defined"
     ]
    }
   ],
   "source": [
    "plot_digits(X_test, \"Uncorrupted test images\")\n",
    "plot_digits(\n",
    "    X_test_noisy, f\"Noisy test images\\nMSE: {np.mean((X_test - X_test_noisy) ** 2):.2f}\"\n",
    ")"
   ]
  },
  {
   "cell_type": "code",
   "execution_count": null,
   "id": "94a540a9-7968-470f-9969-add05a0769b5",
   "metadata": {},
   "outputs": [],
   "source": [
    "from sklearn.decomposition import PCA, KernelPCA\n",
    "\n",
    "pca = PCA(n_components=32)\n",
    "kernel_pca = KernelPCA(\n",
    "    n_components=400, kernel=\"rbf\", gamma=1e-3, fit_inverse_transform=True, alpha=5e-3\n",
    ")\n",
    "\n",
    "pca.fit(X_train_noisy)\n",
    "_ = kernel_pca.fit(X_train_noisy)"
   ]
  },
  {
   "cell_type": "code",
   "execution_count": null,
   "id": "1dca423b-fcc7-4379-9073-6320289899ef",
   "metadata": {},
   "outputs": [],
   "source": [
    "X_reconstructed_kernel_pca = kernel_pca.inverse_transform(\n",
    "    kernel_pca.transform(X_test_noisy)\n",
    ")\n",
    "X_reconstructed_pca = pca.inverse_transform(pca.transform(X_test_noisy))"
   ]
  },
  {
   "cell_type": "code",
   "execution_count": null,
   "id": "f36f56a3-e558-4479-a50b-3b3a0f57fddc",
   "metadata": {},
   "outputs": [],
   "source": [
    "plot_digits(X_test, \"Uncorrupted test images\")\n",
    "plot_digits(\n",
    "    X_reconstructed_pca,\n",
    "    f\"PCA reconstruction\\nMSE: {np.mean((X_test - X_reconstructed_pca) ** 2):.2f}\",\n",
    ")\n",
    "plot_digits(\n",
    "    X_reconstructed_kernel_pca,\n",
    "    \"Kernel PCA reconstruction\\n\"\n",
    "    f\"MSE: {np.mean((X_test - X_reconstructed_kernel_pca) ** 2):.2f}\",\n",
    ")"
   ]
  },
  {
   "cell_type": "code",
   "execution_count": null,
   "id": "8574d056-e1e0-4727-809e-7c19da9c35bd",
   "metadata": {},
   "outputs": [],
   "source": []
  }
 ],
 "metadata": {
  "kernelspec": {
   "display_name": "Python 3 (ipykernel)",
   "language": "python",
   "name": "python3"
  },
  "language_info": {
   "codemirror_mode": {
    "name": "ipython",
    "version": 3
   },
   "file_extension": ".py",
   "mimetype": "text/x-python",
   "name": "python",
   "nbconvert_exporter": "python",
   "pygments_lexer": "ipython3",
   "version": "3.9.13"
  }
 },
 "nbformat": 4,
 "nbformat_minor": 5
}
