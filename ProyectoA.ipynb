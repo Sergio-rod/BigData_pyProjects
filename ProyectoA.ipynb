{
 "cells": [
  {
   "cell_type": "code",
   "execution_count": 1,
   "id": "9d11720b-2f7b-4401-b3d8-0974a5fc556a",
   "metadata": {},
   "outputs": [],
   "source": [
    "import pandas as pd\n",
    "import matplotlib.pyplot as plt \n",
    "import seaborn as sns\n",
    "from sklearn import (datasets,model_selection as skms, neighbors, metrics as mt, linear_model as lm)\n",
    "import sqlite3, pandas as pd\n",
    "\n",
    "\n",
    "df = pd.read_csv('letras.csv',delimiter=',',encoding='latin-1')"
   ]
  },
  {
   "cell_type": "code",
   "execution_count": 2,
   "id": "f5253da8-2f5e-4211-8398-0f6ef4c15338",
   "metadata": {},
   "outputs": [
    {
     "name": "stdout",
     "output_type": "stream",
     "text": [
      "       23  0  0.1  0.2  0.3  0.4  0.5  0.6  0.7  0.8  ...  0.406  0.407  \\\n",
      "0       7  0    0    0    0    0    0    0    0    0  ...      0      0   \n",
      "1      16  0    0    0    0    0    0    0    0    0  ...      0      0   \n",
      "2      15  0    0    0    0    0    0    0    0    0  ...      0      0   \n",
      "3      23  0    0    0    0    0    0    0    0    0  ...      0      0   \n",
      "4      17  0    0    0    0    0    0    0    0    0  ...      0      0   \n",
      "...    .. ..  ...  ...  ...  ...  ...  ...  ...  ...  ...    ...    ...   \n",
      "88794   1  0    0    0    0    0    0    0    0    0  ...      0      0   \n",
      "88795  21  0    0    0    0    0    0    0    0    0  ...      0      0   \n",
      "88796   1  0    0    0    0    0    0    0    0    0  ...      0      0   \n",
      "88797  23  0    0    0    0    0    0    0    0    0  ...      0      0   \n",
      "88798  12  0    0    0    0    0    0    0    0    0  ...      0      0   \n",
      "\n",
      "       0.408  0.409  0.410  0.411  0.412  0.413  0.414  0.415  \n",
      "0          0      0      0      0      0      0      0      0  \n",
      "1          0      0      0      0      0      0      0      0  \n",
      "2          0      0      0      0      0      0      0      0  \n",
      "3          0      0      0      0      0      0      0      0  \n",
      "4          0      0      0      0      0      0      0      0  \n",
      "...      ...    ...    ...    ...    ...    ...    ...    ...  \n",
      "88794      0      0      0      0      0      0      0      0  \n",
      "88795      0      0      0      0      0      0      0      0  \n",
      "88796      0      0      0      0      0      0      0      0  \n",
      "88797      0      0      0      0      0      0      0      0  \n",
      "88798      0      0      0      0      0      0      0      0  \n",
      "\n",
      "[88799 rows x 785 columns]\n"
     ]
    }
   ],
   "source": [
    "print(df)"
   ]
  },
  {
   "cell_type": "code",
   "execution_count": 3,
   "id": "477dcb3b-5292-4942-bbc4-73e392601094",
   "metadata": {},
   "outputs": [
    {
     "name": "stdout",
     "output_type": "stream",
     "text": [
      "       0  0.1  0.2  0.3  0.4  0.5  0.6  0.7  0.8  0.9  ...  0.406  0.407  \\\n",
      "0      0    0    0    0    0    0    0    0    0    0  ...      0      0   \n",
      "1      0    0    0    0    0    0    0    0    0    0  ...      0      0   \n",
      "2      0    0    0    0    0    0    0    0    0    0  ...      0      0   \n",
      "3      0    0    0    0    0    0    0    0    0    0  ...      0      0   \n",
      "4      0    0    0    0    0    0    0    0    0    0  ...      0      0   \n",
      "...   ..  ...  ...  ...  ...  ...  ...  ...  ...  ...  ...    ...    ...   \n",
      "88794  0    0    0    0    0    0    0    0    0    0  ...      0      0   \n",
      "88795  0    0    0    0    0    0    0    0    0    0  ...      0      0   \n",
      "88796  0    0    0    0    0    0    0    0    0    0  ...      0      0   \n",
      "88797  0    0    0    0    0    0    0    0    0    0  ...      0      0   \n",
      "88798  0    0    0    0    0    0    0    0    0    0  ...      0      0   \n",
      "\n",
      "       0.408  0.409  0.410  0.411  0.412  0.413  0.414  0.415  \n",
      "0          0      0      0      0      0      0      0      0  \n",
      "1          0      0      0      0      0      0      0      0  \n",
      "2          0      0      0      0      0      0      0      0  \n",
      "3          0      0      0      0      0      0      0      0  \n",
      "4          0      0      0      0      0      0      0      0  \n",
      "...      ...    ...    ...    ...    ...    ...    ...    ...  \n",
      "88794      0      0      0      0      0      0      0      0  \n",
      "88795      0      0      0      0      0      0      0      0  \n",
      "88796      0      0      0      0      0      0      0      0  \n",
      "88797      0      0      0      0      0      0      0      0  \n",
      "88798      0      0      0      0      0      0      0      0  \n",
      "\n",
      "[88799 rows x 784 columns]\n"
     ]
    }
   ],
   "source": [
    "x = df.iloc[:,1:]\n",
    "\n",
    "print(x)\n",
    "\n",
    "xList= list(x)"
   ]
  },
  {
   "cell_type": "code",
   "execution_count": 4,
   "id": "42acfb49-a864-47d8-b189-33ae105d5586",
   "metadata": {},
   "outputs": [
    {
     "name": "stdout",
     "output_type": "stream",
     "text": [
      "[[ 7]\n",
      " [16]\n",
      " [15]\n",
      " ...\n",
      " [ 1]\n",
      " [23]\n",
      " [12]]\n"
     ]
    }
   ],
   "source": [
    "y = df.iloc[:,:1].values\n",
    "yList = list(y)\n",
    "\n",
    "y.ravel()\n",
    "print(y)"
   ]
  },
  {
   "cell_type": "code",
   "execution_count": 5,
   "id": "16775b77-ca90-47b1-b119-d62527a61a73",
   "metadata": {},
   "outputs": [],
   "source": [
    "import numpy as np\n",
    "import matplotlib.pyplot as plt\n",
    "\n"
   ]
  },
  {
   "cell_type": "code",
   "execution_count": 6,
   "id": "0f60faef-ff34-4169-98f4-7ffb5a6c6f4e",
   "metadata": {},
   "outputs": [
    {
     "data": {
      "image/png": "[encoded data removed]",
      "text/plain": [
       "<Figure size 640x480 with 1 Axes>"
      ]
     },
     "metadata": {},
     "output_type": "display_data"
    }
   ],
   "source": [
    "\n",
    "import numpy as np\n",
    "import matplotlib.pyplot as plt\n",
    "\n",
    "matriz = np.array(x.iloc[123])\n",
    "# Redimensionar la matriz a una matriz de 28x28\n",
    "matriz = matriz.reshape((28, 28))\n",
    "\n",
    "# Mostrar la imagen en blanco y negro con la letra en color negro\n",
    "plt.imshow(matriz, cmap='gray_r')\n",
    "plt.show()\n"
   ]
  },
  {
   "cell_type": "code",
   "execution_count": 7,
   "id": "4b148146-5060-4452-a571-cb129b5abce0",
   "metadata": {},
   "outputs": [],
   "source": [
    "x_train,x_test,y_train,y_test = skms.train_test_split(x,y,test_size= .005,stratify=y,random_state=0)"
   ]
  },
  {
   "cell_type": "code",
   "execution_count": 8,
   "id": "44c49d2a-8524-45df-acf7-69d570846a5f",
   "metadata": {},
   "outputs": [
    {
     "name": "stderr",
     "output_type": "stream",
     "text": [
      "/opt/anaconda3/lib/python3.9/site-packages/sklearn/neighbors/_classification.py:198: DataConversionWarning: A column-vector y was passed when a 1d array was expected. Please change the shape of y to (n_samples,), for example using ravel().\n",
      "  return self._fit(X, y)\n"
     ]
    },
    {
     "name": "stdout",
     "output_type": "stream",
     "text": [
      "0.8445945945945946\n",
      "[[12  0  0  0  0  0  0  0  0  0  0  0  0  0  0  0  3  1  0  0  0  0  0  0\n",
      "   1  0]\n",
      " [ 0 16  0  0  0  0  2  0  0  0  0  0  0  0  0  0  0  0  0  0  0  0  0  0\n",
      "   0  0]\n",
      " [ 0  0 15  0  3  0  0  0  0  0  0  0  0  0  0  0  1  0  1  0  0  0  0  0\n",
      "   0  0]\n",
      " [ 0  0  0 16  0  0  0  0  0  0  0  0  0  0  0  1  0  0  0  0  0  0  0  0\n",
      "   0  0]\n",
      " [ 0  0  1  0 14  0  0  0  0  0  0  0  0  0  0  0  0  0  0  0  0  0  0  0\n",
      "   0  1]\n",
      " [ 0  0  0  0  0 15  0  0  0  0  0  0  0  0  0  1  0  0  0  1  0  0  0  0\n",
      "   0  0]\n",
      " [ 0  0  0  0  0  0 12  0  0  0  0  0  0  0  0  0  1  0  0  0  0  0  0  0\n",
      "   0  1]\n",
      " [ 0  0  0  0  0  0  0 16  0  0  0  0  0  1  0  0  0  1  0  0  0  0  0  0\n",
      "   0  0]\n",
      " [ 0  0  1  0  0  0  0  0 14  1  0  8  0  0  0  0  0  0  0  0  0  0  0  0\n",
      "   0  0]\n",
      " [ 0  0  0  0  0  0  0  0  0 16  0  0  0  0  0  0  0  0  0  0  0  0  0  0\n",
      "   0  0]\n",
      " [ 0  0  0  0  0  0  0  0  0  0 15  0  0  0  0  0  0  1  0  0  0  0  0  0\n",
      "   0  0]\n",
      " [ 0  0  0  1  0  1  1  0  3  0  1  9  0  0  0  0  0  0  0  2  0  0  0  1\n",
      "   0  0]\n",
      " [ 0  0  0  0  0  0  0  0  0  0  0  0 17  0  0  0  0  0  0  0  0  0  0  0\n",
      "   0  0]\n",
      " [ 2  0  0  0  0  0  0  1  0  0  0  0  0 15  0  0  0  0  0  0  0  0  0  0\n",
      "   0  0]\n",
      " [ 2  0  0  0  0  0  0  0  0  0  0  0  0  0 15  0  0  0  1  0  0  0  0  0\n",
      "   0  0]\n",
      " [ 0  1  0  0  0  1  0  0  0  0  0  0  0  0  0 15  0  2  0  0  0  0  0  0\n",
      "   0  0]\n",
      " [ 0  0  0  0  0  0  2  0  0  0  0  0  0  0  1  0 11  0  0  0  0  0  0  0\n",
      "   1  0]\n",
      " [ 0  0  0  0  0  0  0  0  0  0  2  0  0  0  0  0  0 12  0  2  0  1  0  0\n",
      "   0  0]\n",
      " [ 0  0  0  0  0  0  0  0  0  0  0  0  0  0  0  0  0  0 15  0  0  0  1  0\n",
      "   0  0]\n",
      " [ 0  0  0  0  0  0  0  0  0  0  0  0  0  0  0  0  0  0  0 12  0  0  0  0\n",
      "   0  0]\n",
      " [ 0  0  0  0  0  0  0  0  0  0  0  0  0  1  1  0  1  0  0  0 17  0  0  0\n",
      "   0  0]\n",
      " [ 0  0  0  0  0  0  0  0  0  0  0  0  0  0  0  0  0  0  0  0  0 16  0  0\n",
      "   3  0]\n",
      " [ 0  0  0  0  0  0  0  0  0  0  0  0  0  0  0  0  0  0  0  0  0  0 16  0\n",
      "   0  0]\n",
      " [ 0  0  0  0  0  0  0  0  0  0  0  0  0  0  0  0  0  0  0  0  0  0  0 16\n",
      "   0  0]\n",
      " [ 0  0  0  0  0  0  0  0  0  0  0  0  0  0  0  0  0  0  0  0  0  0  0  0\n",
      "  13  0]\n",
      " [ 1  0  0  0  0  0  0  0  0  0  0  0  0  0  0  0  0  0  0  0  0  0  0  0\n",
      "   0 15]]\n"
     ]
    }
   ],
   "source": [
    "\"\"\"Pruebas\"\"\"\n",
    "#clasificador knn\n",
    "model = neighbors.KNeighborsClassifier()\n",
    "#entrenamiento\n",
    "model.fit(x_train,y_train)\n",
    "\n",
    "#mandamos datos a predecir e imprimimos \n",
    "\n",
    "predicciones= model.predict(x_test)\n",
    "\n",
    "\n",
    "j=mt.accuracy_score(predicciones,y_test)\n",
    "i=mt.confusion_matrix(predicciones,y_test)\n",
    "\n",
    "\n",
    "\n",
    "print(j)\n",
    "print(i)\n",
    "\n"
   ]
  },
  {
   "cell_type": "code",
   "execution_count": 9,
   "id": "29757046-19c9-4c55-9475-3ebd1a386216",
   "metadata": {},
   "outputs": [
    {
     "name": "stdout",
     "output_type": "stream",
     "text": [
      "[[  0   0   0   0   0   0   0   0   0   0   0   0   0   0   0   0   0   0\n",
      "    0   0   0   0   0   0   0   0   0   0   0   0   0   0   0   0   0   0\n",
      "    0   0   0   0   0   0   0   0   0   0   0   0   0   0   0   0   0   0\n",
      "    0   0   0   0   0   0   0   0   0   0   0   0   0   0   0   0   0   0\n",
      "    0   0   0   0   0   0   0   0   0   0   0   0   0   0   0   0   0   0\n",
      "    0   0   0   0   0   0   0   0   0   0   0   0   0   0   0   0   0   0\n",
      "    0   0   0   0   0   0   0   0   0   0   0   0   0   0   0   0   0   0\n",
      "    0   0   0   0   0   0   0   0   0   0   0   0   0   0   0   0   0   0\n",
      "    0   0   0   0   0   0   0   0   0   0   0   0   0   0   0   0   0   0\n",
      "    0   0   0   0   0   0   0   0   0   0   0   0   0   0   0   0   0   0\n",
      "    0   0   0   0   0   0   0   0   0   0   0   0   0   0   0   0   0   0\n",
      "    0   0   0   0   0   0   0   0   0 255 255 255 255 255 255 255 255 255\n",
      "    0   0   0   0   0   0   0   0   0   0   0   0   0   0   0   0   0 255\n",
      "  255 255   0   0   0   0   0   0   0 255 255   0   0   0   0   0   0   0\n",
      "    0   0   0   0   0   0   0 255 255 255   0   0   0   0   0   0   0   0\n",
      "    0   0 255   0   0   0   0   0   0   0   0   0   0   0   0   0   0 255\n",
      "    0   0   0   0   0   0   0   0   0   0   0   0 255 255   0   0   0   0\n",
      "    0   0   0   0   0   0   0   0 255 255   0   0   0   0   0   0   0   0\n",
      "    0   0   0   0   0 255   0   0   0   0   0   0   0   0   0   0   0   0\n",
      "  255   0   0   0   0   0   0   0   0   0   0   0 255 255 255 255   0   0\n",
      "    0   0   0   0   0   0   0   0   0   0 255   0   0   0   0   0   0 255\n",
      "  255 255 255 255 255   0   0   0   0   0   0   0   0   0   0   0   0   0\n",
      "    0   0 255   0   0   0   0   0   0   0   0   0   0   0   0   0   0   0\n",
      "    0   0   0   0   0   0   0   0   0   0   0   0 255   0   0   0   0   0\n",
      "    0   0   0   0   0   0   0   0   0   0   0   0   0   0   0   0   0   0\n",
      "    0   0   0   0 255 255   0   0   0   0   0   0   0   0   0   0   0   0\n",
      "    0   0   0   0   0   0   0   0   0   0   0   0   0   0   0 255   0   0\n",
      "    0   0   0   0   0   0   0   0   0   0   0   0   0   0   0   0   0   0\n",
      "    0   0   0   0   0   0   0 255 255   0   0   0   0   0   0   0   0   0\n",
      "    0   0   0   0   0   0   0   0   0   0   0   0   0   0   0   0   0   0\n",
      "  255 255 255   0   0   0   0   0   0   0   0   0   0 255 255   0   0   0\n",
      "    0   0   0   0   0   0   0   0   0   0   0   0 255 255 255   0   0   0\n",
      "    0   0   0   0 255 255   0   0   0   0   0   0   0   0   0   0   0   0\n",
      "    0   0   0   0   0   0 255 255 255 255 255 255 255 255   0   0   0   0\n",
      "    0   0   0   0   0   0   0   0   0   0   0   0   0   0   0   0   0   0\n",
      "    0   0   0   0   0   0   0   0   0   0   0   0   0   0   0   0   0   0\n",
      "    0   0   0   0   0   0   0   0   0   0   0   0   0   0   0   0   0   0\n",
      "    0   0   0   0   0   0   0   0   0   0   0   0   0   0   0   0   0   0\n",
      "    0   0   0   0   0   0   0   0   0   0   0   0   0   0   0   0   0   0\n",
      "    0   0   0   0   0   0   0   0   0   0   0   0   0   0   0   0   0   0\n",
      "    0   0   0   0   0   0   0   0   0   0   0   0   0   0   0   0   0   0\n",
      "    0   0   0   0   0   0   0   0   0   0   0   0   0   0   0   0   0   0\n",
      "    0   0   0   0   0   0   0   0   0   0   0   0   0   0   0   0   0   0\n",
      "    0   0   0   0   0   0   0   0   0   0]]\n"
     ]
    },
    {
     "name": "stderr",
     "output_type": "stream",
     "text": [
      "/opt/anaconda3/lib/python3.9/site-packages/sklearn/base.py:450: UserWarning: X does not have valid feature names, but KNeighborsClassifier was fitted with feature names\n",
      "  warnings.warn(\n"
     ]
    }
   ],
   "source": [
    "from PIL import Image, ImageOps\n",
    "import numpy as np\n",
    "#PARA PROBAR EL MODELO HAY QUE\n",
    "\n",
    "\n",
    "# --> Cargar la imagen y redimensionar a 28x28\n",
    "\n",
    "imagen = Image.open('em.png')  # Reemplaza '2.jpg' con la ruta de tu imagen\n",
    "imagen = imagen.resize((28, 28))\n",
    "\n",
    "# Invertir los colores de la imagen\n",
    "imagen_invertida = ImageOps.invert(imagen)\n",
    "\n",
    "# Convertir la imagen invertida a una matriz NumPy en escala de grises\n",
    "matriz_gris = np.array(imagen_invertida.convert('L'))\n",
    "\n",
    "# Aplanar la matriz a un vector de 784 elementos\n",
    "pixeles = matriz_gris.reshape((1, 784))\n",
    "\n",
    "# Imprimir el vector\n",
    "print(pixeles)\n",
    "\n",
    "# Predecir con el clasificador SGD\n",
    "prediccion1 = model.predict(pixeles)\n",
    "\n"
   ]
  },
  {
   "cell_type": "code",
   "execution_count": 10,
   "id": "79b1defd-ea73-4478-9c7e-0d2373647c49",
   "metadata": {},
   "outputs": [
    {
     "name": "stdout",
     "output_type": "stream",
     "text": [
      "[12]\n"
     ]
    }
   ],
   "source": [
    "print(prediccion1)"
   ]
  },
  {
   "cell_type": "code",
   "execution_count": 11,
   "id": "0f619b32-ab7b-438d-a652-10318c924b20",
   "metadata": {},
   "outputs": [
    {
     "data": {
      "image/png": "[encoded data removed]",
      "text/plain": [
       "<Figure size 640x480 with 1 Axes>"
      ]
     },
     "metadata": {},
     "output_type": "display_data"
    }
   ],
   "source": [
    "\n",
    "\n",
    "plt.imshow(matriz_gris, cmap='gray_r')\n",
    "plt.show()"
   ]
  },
  {
   "cell_type": "code",
   "execution_count": 12,
   "id": "febaf343-61c8-4268-9929-aac016b3ae08",
   "metadata": {},
   "outputs": [
    {
     "data": {
      "text/plain": [
       "<AxesSubplot: >"
      ]
     },
     "execution_count": 12,
     "metadata": {},
     "output_type": "execute_result"
    },
    {
     "data": {
      "image/png": "[encoded data removed]",
      "text/plain": [
       "<Figure size 640x480 with 2 Axes>"
      ]
     },
     "metadata": {},
     "output_type": "display_data"
    }
   ],
   "source": [
    "sns.heatmap(i)"
   ]
  },
  {
   "cell_type": "code",
   "execution_count": null,
   "id": "90cf15ce-fe7a-4ca2-863e-8ed88a68962f",
   "metadata": {},
   "outputs": [],
   "source": []
  }
 ],
 "metadata": {
  "kernelspec": {
   "display_name": "Python 3 (ipykernel)",
   "language": "python",
   "name": "python3"
  },
  "language_info": {
   "codemirror_mode": {
    "name": "ipython",
    "version": 3
   },
   "file_extension": ".py",
   "mimetype": "text/x-python",
   "name": "python",
   "nbconvert_exporter": "python",
   "pygments_lexer": "ipython3",
   "version": "3.9.13"
  }
 },
 "nbformat": 4,
 "nbformat_minor": 5
}
