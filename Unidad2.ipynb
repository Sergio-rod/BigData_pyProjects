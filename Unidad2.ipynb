{
 "cells": [
  {
   "cell_type": "code",
   "execution_count": 1,
   "id": "70aed999-9508-41a7-adf8-b976100dbc5b",
   "metadata": {},
   "outputs": [
    {
     "data": {
      "text/plain": [
       "12"
      ]
     },
     "execution_count": 1,
     "metadata": {},
     "output_type": "execute_result"
    }
   ],
   "source": [
    "5 +7\n"
   ]
  },
  {
   "cell_type": "code",
   "execution_count": 2,
   "id": "0becce01-3dc5-4b3f-9153-e108ba64ffe8",
   "metadata": {},
   "outputs": [],
   "source": [
    "x= 7"
   ]
  },
  {
   "cell_type": "code",
   "execution_count": 3,
   "id": "93dfd96d-57e3-49fb-90b5-665a407228d5",
   "metadata": {},
   "outputs": [
    {
     "data": {
      "text/plain": [
       "int"
      ]
     },
     "execution_count": 3,
     "metadata": {},
     "output_type": "execute_result"
    }
   ],
   "source": [
    "type(x)"
   ]
  },
  {
   "cell_type": "code",
   "execution_count": 4,
   "id": "deee384a-0454-4b19-873b-c3c6aefb0870",
   "metadata": {},
   "outputs": [
    {
     "data": {
      "text/plain": [
       "float"
      ]
     },
     "execution_count": 4,
     "metadata": {},
     "output_type": "execute_result"
    }
   ],
   "source": [
    "type(7.5)"
   ]
  },
  {
   "cell_type": "code",
   "execution_count": 5,
   "id": "f56e7590-8c75-474f-a38a-abce345261d1",
   "metadata": {},
   "outputs": [
    {
     "data": {
      "text/plain": [
       "-2"
      ]
     },
     "execution_count": 5,
     "metadata": {},
     "output_type": "execute_result"
    }
   ],
   "source": [
    "5-7"
   ]
  },
  {
   "cell_type": "code",
   "execution_count": 6,
   "id": "209e7357-619a-46a3-9261-f50824759b50",
   "metadata": {},
   "outputs": [
    {
     "data": {
      "text/plain": [
       "20"
      ]
     },
     "execution_count": 6,
     "metadata": {},
     "output_type": "execute_result"
    }
   ],
   "source": [
    "5*4"
   ]
  },
  {
   "cell_type": "code",
   "execution_count": 7,
   "id": "066f2964-db6a-4082-b164-254fc91504a8",
   "metadata": {},
   "outputs": [
    {
     "data": {
      "text/plain": [
       "256"
      ]
     },
     "execution_count": 7,
     "metadata": {},
     "output_type": "execute_result"
    }
   ],
   "source": [
    "4**4"
   ]
  },
  {
   "cell_type": "code",
   "execution_count": 8,
   "id": "ef6d422d-d92c-4a92-95cd-dc66ae55e310",
   "metadata": {},
   "outputs": [
    {
     "data": {
      "text/plain": [
       "3.3333333333333335"
      ]
     },
     "execution_count": 8,
     "metadata": {},
     "output_type": "execute_result"
    }
   ],
   "source": [
    "10/3 \n"
   ]
  },
  {
   "cell_type": "code",
   "execution_count": 9,
   "id": "504090b9-527e-448b-90b6-624fcc525c92",
   "metadata": {},
   "outputs": [
    {
     "data": {
      "text/plain": [
       "3"
      ]
     },
     "execution_count": 9,
     "metadata": {},
     "output_type": "execute_result"
    }
   ],
   "source": [
    "10//3"
   ]
  },
  {
   "cell_type": "code",
   "execution_count": 10,
   "id": "b73fd10b-51f0-4703-87ef-ece8124fed5a",
   "metadata": {},
   "outputs": [
    {
     "data": {
      "text/plain": [
       "1"
      ]
     },
     "execution_count": 10,
     "metadata": {},
     "output_type": "execute_result"
    }
   ],
   "source": [
    "10%3"
   ]
  },
  {
   "cell_type": "code",
   "execution_count": 11,
   "id": "fd321618-3d75-4dec-916f-ef07c0f822bc",
   "metadata": {},
   "outputs": [
    {
     "data": {
      "text/plain": [
       "1"
      ]
     },
     "execution_count": 11,
     "metadata": {},
     "output_type": "execute_result"
    }
   ],
   "source": [
    "min(1,2,3,4,5,6)"
   ]
  },
  {
   "cell_type": "code",
   "execution_count": 12,
   "id": "868e2308-ad2a-44d1-86e3-eaab5bfcf12d",
   "metadata": {},
   "outputs": [
    {
     "data": {
      "text/plain": [
       "6"
      ]
     },
     "execution_count": 12,
     "metadata": {},
     "output_type": "execute_result"
    }
   ],
   "source": [
    "max(1,2,3,4,5,6)"
   ]
  },
  {
   "cell_type": "code",
   "execution_count": 13,
   "id": "759bf500-94a1-4201-bee3-02fd750a98ec",
   "metadata": {},
   "outputs": [
    {
     "data": {
      "text/plain": [
       "range(47, 95, 88)"
      ]
     },
     "execution_count": 13,
     "metadata": {},
     "output_type": "execute_result"
    }
   ],
   "source": [
    "range (47,95,88)"
   ]
  },
  {
   "cell_type": "code",
   "execution_count": 14,
   "id": "1639d78b-e76b-41d3-b9e9-4a15f68c2922",
   "metadata": {},
   "outputs": [
    {
     "data": {
      "text/plain": [
       "range(47, 95)"
      ]
     },
     "execution_count": 14,
     "metadata": {},
     "output_type": "execute_result"
    }
   ],
   "source": [
    "range (min(47,95,88,73,88,84),max(47,95,88,73,88,84))"
   ]
  },
  {
   "cell_type": "code",
   "execution_count": 15,
   "id": "c45b2a05-030a-4dc0-a9e5-0b9ae6bcfdf9",
   "metadata": {},
   "outputs": [
    {
     "name": "stdout",
     "output_type": "stream",
     "text": [
      "rango(47, 95)\n"
     ]
    }
   ],
   "source": [
    "print(f\"rango{(min(47,95,88,73,88,84),max(47,95,88,73,88,84))}\")"
   ]
  },
  {
   "cell_type": "code",
   "execution_count": 16,
   "id": "e11ccc6e-4c49-42aa-8792-4e4569c2f050",
   "metadata": {},
   "outputs": [
    {
     "name": "stdin",
     "output_type": "stream",
     "text": [
      "Ingrese una calificacion 1\n"
     ]
    },
    {
     "name": "stdout",
     "output_type": "stream",
     "text": [
      "Insuficiente\n"
     ]
    }
   ],
   "source": [
    "x=int(input(\"Ingrese una calificacion\"))\n",
    "\n",
    "if(x==100):\n",
    "    print(\"Excelente\")\n",
    "elif(x>=90):\n",
    "    print(\"Notable\")\n",
    "elif(x>=80):\n",
    "    print(\"Bueno\")\n",
    "elif(x>=70):\n",
    "    print(\"Suficiente\")\n",
    "else: print(\"Insuficiente\")"
   ]
  },
  {
   "cell_type": "code",
   "execution_count": 17,
   "id": "2879b4a7-df6a-4caa-a218-8860dba14525",
   "metadata": {},
   "outputs": [
    {
     "name": "stdin",
     "output_type": "stream",
     "text": [
      "Ingrese una calificacion 1\n"
     ]
    },
    {
     "name": "stdout",
     "output_type": "stream",
     "text": [
      "No acreditado\n"
     ]
    }
   ],
   "source": [
    "x=int(input(\"Ingrese una calificacion\"))\n",
    "\n",
    "if(x>=70):\n",
    "    print(\"Acreditado\")\n",
    "else:\n",
    "    print(\"No acreditado\")"
   ]
  },
  {
   "cell_type": "code",
   "execution_count": 18,
   "id": "bdb0b2b2-c621-4616-b819-6c73bb6c892d",
   "metadata": {},
   "outputs": [
    {
     "name": "stdin",
     "output_type": "stream",
     "text": [
      "Ingrese una calificacion 1\n"
     ]
    },
    {
     "name": "stdout",
     "output_type": "stream",
     "text": [
      "No acreditado\n"
     ]
    }
   ],
   "source": [
    "x=int(input(\"Ingrese una calificacion\"))\n",
    "resultado = (\"acreditado\" if(x>=70) else print(\"No acreditado\"))\n"
   ]
  },
  {
   "cell_type": "code",
   "execution_count": 19,
   "id": "7f28a7f1-8011-4077-9559-b739491b1412",
   "metadata": {},
   "outputs": [
    {
     "name": "stdin",
     "output_type": "stream",
     "text": [
      "Ingrese una calificacion 1\n"
     ]
    },
    {
     "name": "stdout",
     "output_type": "stream",
     "text": [
      "No acreditado\n"
     ]
    }
   ],
   "source": [
    "x=int(input(\"Ingrese una calificacion\"))\n",
    "resultado = (\"acreditado\" if(x>=70) else print(\"No acreditado\"))\n",
    "\n",
    "resultado"
   ]
  },
  {
   "cell_type": "code",
   "execution_count": 20,
   "id": "d0ecdf73-d3ed-4550-9e31-054e975f9dd8",
   "metadata": {},
   "outputs": [
    {
     "name": "stdout",
     "output_type": "stream",
     "text": [
      "2\n",
      "4\n",
      "6\n",
      "8\n",
      "10\n",
      "12\n",
      "14\n",
      "16\n",
      "18\n",
      "20\n"
     ]
    }
   ],
   "source": [
    "x = 1  \n",
    "while(x<11):\n",
    "    resultado = 2*x\n",
    "    print(resultado)\n",
    "    x =x+1"
   ]
  },
  {
   "cell_type": "code",
   "execution_count": 21,
   "id": "ed34594a-0d3f-41bf-93b1-6a278d597541",
   "metadata": {},
   "outputs": [
    {
     "name": "stdout",
     "output_type": "stream",
     "text": [
      "S e r g i o "
     ]
    }
   ],
   "source": [
    "name = \"Sergio\"\n",
    "for i in name:\n",
    "    print(i, end=' ' )"
   ]
  },
  {
   "cell_type": "code",
   "execution_count": 22,
   "id": "5dc535da-961b-438a-8700-b200d88ac032",
   "metadata": {},
   "outputs": [
    {
     "name": "stdout",
     "output_type": "stream",
     "text": [
      " 2*1 = 2\n",
      " 2*2 = 4\n",
      " 2*3 = 6\n",
      " 2*4 = 8\n",
      " 2*5 = 10\n",
      " 2*6 = 12\n",
      " 2*7 = 14\n",
      " 2*8 = 16\n",
      " 2*9 = 18\n",
      " 2*10 = 20\n"
     ]
    }
   ],
   "source": [
    "list = [1,2,3,4,5,6,7,8,9,10]\n",
    "for i in list:\n",
    "    print(f\" 2*{i} = {i*2}\")"
   ]
  },
  {
   "cell_type": "code",
   "execution_count": 23,
   "id": "fcc07c15-6ebb-49fe-9ad2-45d1ec8b4f27",
   "metadata": {},
   "outputs": [
    {
     "name": "stdout",
     "output_type": "stream",
     "text": [
      "45\n"
     ]
    }
   ],
   "source": [
    "sum = 0\n",
    "for i in range(1,10):\n",
    "    sum= sum+i\n",
    "print(sum)\n",
    "    "
   ]
  },
  {
   "cell_type": "code",
   "execution_count": 24,
   "id": "ecc803dd-5809-497a-a8c6-83f8ca2c1ceb",
   "metadata": {},
   "outputs": [
    {
     "name": "stdout",
     "output_type": "stream",
     "text": [
      "30\n"
     ]
    }
   ],
   "source": [
    "list=[2,4,6,8,10]\n",
    "suma = 0\n",
    "for i in list:\n",
    "    suma += i\n",
    "    \n",
    "print(suma)\n",
    "    "
   ]
  },
  {
   "cell_type": "code",
   "execution_count": 25,
   "id": "7297cc77-9d92-4f3b-a13c-936a41172741",
   "metadata": {},
   "outputs": [
    {
     "name": "stdout",
     "output_type": "stream",
     "text": [
      "Promedio: 81.7\n"
     ]
    }
   ],
   "source": [
    "\"\"\"Sacar el promedio de una lista de calificaciónes\"\"\"\n",
    "\n",
    "#Fase de inicialización\n",
    "calList =[98,76,71,87,83,90,57,79,82,94]\n",
    "\n",
    "\n",
    "#Fase de procesamiento\n",
    "sum=0\n",
    "for i in calList:\n",
    "    sum += i\n",
    "\n",
    "prom = sum/len(calList)\n",
    "    \n",
    "#Terminación\n",
    "\n",
    "print(f\"Promedio: {prom}\")\n",
    "    "
   ]
  },
  {
   "cell_type": "code",
   "execution_count": 26,
   "id": "c2314801-e33a-48be-8463-0081212e9ab4",
   "metadata": {},
   "outputs": [
    {
     "name": "stdin",
     "output_type": "stream",
     "text": [
      "Ingresa una calificación 1\n",
      "Ingresa una calificación -1\n"
     ]
    },
    {
     "name": "stdout",
     "output_type": "stream",
     "text": [
      "Adios\n",
      "1.0\n"
     ]
    }
   ],
   "source": [
    "\"\"\"Rellenar un arreglo hasta que el usuario ingrese -1, el cual se tomará que ya no se agregarán mas\"\"\"\n",
    "\n",
    "#Fase de inicialización\n",
    "control = True\n",
    "calList = []\n",
    "while(control):\n",
    "    cal = int(input(\"Ingresa una calificación\"))\n",
    "    if(cal==-1):\n",
    "                print(\"Adios\")\n",
    "                control = False\n",
    "                break\n",
    "    elif(cal<0):\n",
    "                print(\"No pueden ser negativos los valores \")\n",
    "    else:\n",
    "                calList.append(cal)\n",
    "                \n",
    "sum = 0\n",
    "                \n",
    "if (len(calList))==0:\n",
    "                print(\"La lista está vacia, no puede sacarse promedio\")\n",
    "elif len(calList)>0:\n",
    "                for i in calList:\n",
    "                    sum += i\n",
    "                promedio = sum/len(calList)\n",
    "                \n",
    "print(promedio)\n",
    "                \n",
    "\n",
    "\n",
    "                \n",
    "                \n",
    "        \n",
    "    \n"
   ]
  },
  {
   "cell_type": "code",
   "execution_count": 27,
   "id": "a86ca73c-f85e-4e5c-842a-9cd02da22c2a",
   "metadata": {},
   "outputs": [
    {
     "name": "stdout",
     "output_type": "stream",
     "text": [
      "Alumno 1:1\n",
      "Alumno 2:1\n",
      "Alumno 3:0\n",
      "Alumno 4:0\n",
      "Alumno 5:0\n",
      "Alumno 6:1\n",
      "Alumno 7:0\n",
      "Alumno 8:1\n",
      "Alumno 9:1\n",
      "Alumno 10:1\n",
      "aprobados: 6\n",
      "reprobados: 4\n"
     ]
    }
   ],
   "source": [
    "listAlumn = [100,80,56,23,25,100,22,80,90,70]\n",
    "\n",
    "aprob = 0\n",
    "reprob = 0\n",
    "\n",
    "for i,cal in enumerate(listAlumn):\n",
    "    if cal>=70:\n",
    "        aprob += 1\n",
    "        print(f\"Alumno {i+1}:{1}\")\n",
    "    elif cal>100:\n",
    "        print(\"Solo pueden ser números menores o iguales a 100\")\n",
    "    elif cal<0:\n",
    "        print(\"Solo pueden ser números positivos\")\n",
    "    else:\n",
    "        reprob +=1\n",
    "        print(f\"Alumno {i+1}:{0}\")\n",
    "        \n",
    "print(f\"aprobados: {aprob}\")\n",
    "print(f\"reprobados: {reprob}\")"
   ]
  },
  {
   "cell_type": "code",
   "execution_count": 28,
   "id": "10c2dd3f-9676-4391-bdd2-8848b69f25fd",
   "metadata": {},
   "outputs": [
    {
     "name": "stdout",
     "output_type": "stream",
     "text": [
      "3 * 1 = 3\n",
      "3 * 2 = 6\n",
      "3 * 3 = 9\n",
      "3 * 4 = 12\n",
      "3 * 5 = 15\n",
      "3 * 6 = 18\n",
      "3 * 7 = 21\n",
      "3 * 8 = 24\n",
      "3 * 9 = 27\n",
      "3 * 10 = 30\n",
      "3 * 11 = 33\n",
      "3 * 12 = 36\n"
     ]
    }
   ],
   "source": [
    "x = 3\n",
    "for i in range(1,13):\n",
    "    print(f\"{x} * {i} = {x*i}\")\n",
    "    \n",
    "    "
   ]
  },
  {
   "cell_type": "code",
   "execution_count": 29,
   "id": "701d9d1b-3ac7-4547-856f-dc3448380636",
   "metadata": {},
   "outputs": [
    {
     "name": "stdout",
     "output_type": "stream",
     "text": [
      "4 * 0 = 0\n",
      "4 * 2 = 8\n",
      "4 * 4 = 16\n",
      "4 * 6 = 24\n",
      "4 * 8 = 32\n",
      "4 * 10 = 40\n",
      "4 * 12 = 48\n",
      "4 * 14 = 56\n",
      "4 * 16 = 64\n",
      "4 * 18 = 72\n",
      "4 * 20 = 80\n"
     ]
    }
   ],
   "source": [
    "x = 4\n",
    "for i in range(0,21,2):\n",
    "    print(f\"{x} * {i} = {x*i}\")\n",
    "    "
   ]
  },
  {
   "cell_type": "code",
   "execution_count": 30,
   "id": "20ec3d32-6f8e-4eb2-938f-4817a6aada00",
   "metadata": {},
   "outputs": [
    {
     "name": "stdout",
     "output_type": "stream",
     "text": [
      "4 * 20 = 80\n",
      "4 * 18 = 72\n",
      "4 * 16 = 64\n",
      "4 * 14 = 56\n",
      "4 * 12 = 48\n",
      "4 * 10 = 40\n",
      "4 * 8 = 32\n",
      "4 * 6 = 24\n",
      "4 * 4 = 16\n",
      "4 * 2 = 8\n",
      "4 * 0 = 0\n"
     ]
    }
   ],
   "source": [
    "x = 4\n",
    "for i in range(20,-1,-2):\n",
    "    print(f\"{x} * {i} = {x*i}\")\n",
    "    "
   ]
  },
  {
   "cell_type": "code",
   "execution_count": 31,
   "id": "e1368c96-4839-42bb-994a-adee876c7cef",
   "metadata": {},
   "outputs": [
    {
     "name": "stdout",
     "output_type": "stream",
     "text": [
      "2550\n"
     ]
    }
   ],
   "source": [
    "total = 0\n",
    "for i in range(0,101,2):\n",
    "    \n",
    "    total += i\n",
    "print(total)    "
   ]
  },
  {
   "cell_type": "code",
   "execution_count": 32,
   "id": "10f31616-ea17-4a2a-bc5d-1938df4cfd66",
   "metadata": {},
   "outputs": [
    {
     "name": "stdout",
     "output_type": "stream",
     "text": [
      "La estatura 1.84 es: 1.657 % más alta que la estatura: 1.81\n"
     ]
    }
   ],
   "source": [
    "est1 = 1.84\n",
    "est2= 1.81\n",
    "\n",
    "if(est1>est2):\n",
    "    ref = 100*est1\n",
    "    dif = (ref/est2)-100\n",
    "    print(f\"La estatura {est1} es:{dif: .3f} % más alta que la estatura: {est2}\")\n",
    "    \n",
    "elif(est2>est1):\n",
    "    ref = 100*est2\n",
    "    dif = (ref/est1)-100 \n",
    "    print(f\"La estatura {est2} es:{dif: .3f} % más alta que la estatura: {est1}\")\n",
    "    \n",
    "    \n",
    "\n"
   ]
  },
  {
   "cell_type": "code",
   "execution_count": 33,
   "id": "469068c8-329d-4d31-8842-680344402ee5",
   "metadata": {},
   "outputs": [
    {
     "name": "stdout",
     "output_type": "stream",
     "text": [
      "60.3\n"
     ]
    }
   ],
   "source": [
    "\"\"\"Cantidades decimales\"\"\"\n",
    "import decimal \n",
    "from decimal import Decimal\n",
    "\n",
    "\n",
    "#\n",
    "x=Decimal(\"20.1\")\n",
    "y=Decimal(\"20.1\")\n",
    "z=Decimal(\"20.1\")\n",
    "\n",
    "\n",
    "\n",
    "print(x+y+z)\n",
    "\n"
   ]
  },
  {
   "cell_type": "code",
   "execution_count": 34,
   "id": "664053c8-3b91-4925-b133-a792f62cf7e8",
   "metadata": {},
   "outputs": [
    {
     "data": {
      "text/plain": [
       "60.300000000000004"
      ]
     },
     "execution_count": 34,
     "metadata": {},
     "output_type": "execute_result"
    }
   ],
   "source": [
    "#\n",
    "x=20.1\n",
    "y=20.1\n",
    "z=20.1\n",
    "\n",
    "\n",
    "\n",
    "valor = x+y+z\n",
    "valor\n"
   ]
  },
  {
   "cell_type": "code",
   "execution_count": 35,
   "id": "5b05861b-50fd-4cc8-bc84-082c163cd2b3",
   "metadata": {},
   "outputs": [
    {
     "name": "stdout",
     "output_type": "stream",
     "text": [
      "Año  1 =  1050.00\n",
      "Año  2 =  1102.50\n",
      "Año  3 =  1157.63\n",
      "Año  4 =  1215.51\n",
      "Año  5 =  1276.28\n",
      "Año  6 =  1340.10\n",
      "Año  7 =  1407.10\n",
      "Año  8 =  1477.46\n",
      "Año  9 =  1551.33\n",
      "Año 10 =  1628.89\n"
     ]
    }
   ],
   "source": [
    "\"\"\"a=p(1+3)^n\"\"\"\n",
    "p=1000\n",
    "r=.05\n",
    "n=10\n",
    "\n",
    "a=p*(1+r)**1\n",
    "\n",
    "\n",
    "for i in range(1,11):\n",
    "    a=p*(1+r)**i\n",
    "    print(f\"Año {i: >2} = {a: .2f}\")\n"
   ]
  },
  {
   "cell_type": "code",
   "execution_count": 36,
   "id": "cf47c832-a358-4899-8c02-fec3eddf1258",
   "metadata": {},
   "outputs": [
    {
     "name": "stdout",
     "output_type": "stream",
     "text": [
      "012346789"
     ]
    }
   ],
   "source": [
    "\"\"\"Hacer un ciclo del 0 - 99, que en el número 10, se rompa o salga del ciclo\"\"\"\n",
    "\n",
    "\n",
    "for i in range(0,10):\n",
    "    if (i==5):\n",
    "        continue \n",
    "    print(i, end=\"\")\n"
   ]
  },
  {
   "cell_type": "code",
   "execution_count": 37,
   "id": "309c6bf6-d6f7-4ed2-bd9a-1fbca87c9787",
   "metadata": {},
   "outputs": [],
   "source": [
    "\"\"\"\"\"\"\n",
    "\n",
    "gender = \"Masculino\"\n",
    "edad = 23\n",
    "if(gender==\"Masculino\"and edad>=65):\n",
    "    print(\"Señor de la tercera edad\")\n",
    "\n",
    "\n"
   ]
  },
  {
   "cell_type": "markdown",
   "id": "eb6a73f0-130c-4ceb-bf3b-3e1b9de9fece",
   "metadata": {},
   "source": [
    "# x=int(input(\"Ingrese una calificacion\"))\n",
    "\n",
    "if(x>=95):\n",
    "    print(\"Excelente\")\n",
    "elif(x>=85):\n",
    "    print(\"Notable\")\n",
    "elif(x>=75):\n",
    "    print(\"Bueno\")\n",
    "elif(x>=70):\n",
    "    print(\"Suficiente\")\n",
    "else: print(\"Insuficiente\")"
   ]
  },
  {
   "cell_type": "code",
   "execution_count": 39,
   "id": "1390697a-24b4-4fb4-988e-d02becc6414f",
   "metadata": {},
   "outputs": [
    {
     "name": "stdout",
     "output_type": "stream",
     "text": [
      "El valor no es negativo: 30\n"
     ]
    }
   ],
   "source": [
    "x = 30\n",
    "\n",
    "if(x !=-1):\n",
    "    print(f\"El valor no es negativo: {x}\")"
   ]
  },
  {
   "cell_type": "code",
   "execution_count": 40,
   "id": "246ce43f-a3c6-468a-a917-5789d4ca08f8",
   "metadata": {},
   "outputs": [
    {
     "name": "stdout",
     "output_type": "stream",
     "text": [
      "79.4\n",
      "85\n",
      "85\n",
      "[45, 85, 85, 89, 93]\n"
     ]
    }
   ],
   "source": [
    "import statistics\n",
    "cal = [85,93,45,89,85] \n",
    "print(statistics.mean(cal))\n",
    "print(statistics.median(cal))\n",
    "print(statistics.mode(cal))\n",
    "print(sorted(cal))\n",
    "\n",
    "\n"
   ]
  },
  {
   "cell_type": "code",
   "execution_count": 41,
   "id": "03da6075-6e68-41c5-967a-3190d2de55de",
   "metadata": {},
   "outputs": [
    {
     "name": "stdout",
     "output_type": "stream",
     "text": [
      "19.5555555555555571345394128002226352691650390625\n",
      "19.5\n",
      "19.5\n"
     ]
    }
   ],
   "source": [
    "\"\"\"Medidas de tendencia central\"\"\"\n",
    "import decimal \n",
    "from decimal import Decimal\n",
    "import statistics\n",
    "\n",
    "\n",
    "cal = [19.5,19.5,21.6,20.2,19.7,20.2,18.6,17.2,19.5]\n",
    "print(Decimal(statistics.mean(cal)))\n",
    "print(Decimal(statistics.median(cal)))\n",
    "print(Decimal(statistics.mode(cal)))\n"
   ]
  },
  {
   "cell_type": "code",
   "execution_count": 42,
   "id": "f32d972b-837e-4e17-9ad3-f465b1359125",
   "metadata": {},
   "outputs": [
    {
     "name": "stdout",
     "output_type": "stream",
     "text": [
      "25\n"
     ]
    }
   ],
   "source": [
    "\n",
    "x=5\n",
    "def calcular(x):\n",
    "    return (x*x)\n",
    "print(calcular(x))"
   ]
  },
  {
   "cell_type": "code",
   "execution_count": 43,
   "id": "339b0d82-ef00-4a9c-b902-ff8e0df8a7ae",
   "metadata": {},
   "outputs": [
    {
     "name": "stdout",
     "output_type": "stream",
     "text": [
      "7\n"
     ]
    }
   ],
   "source": [
    "\"\"\"Calcula minino\"\"\"\n",
    "def calculaMin(x,y,z):\n",
    "    if x < y:\n",
    "        if x < z:\n",
    "            return x\n",
    "    if y < x:\n",
    "        if y < z:\n",
    "            return y\n",
    "    if z < x:\n",
    "        if z < y:\n",
    "            return z\n",
    "        \n",
    "print(calculaMin(10,7,8))\n",
    "\n"
   ]
  },
  {
   "cell_type": "code",
   "execution_count": 44,
   "id": "8e8dba04-521b-478c-bc1d-485c2783ed96",
   "metadata": {},
   "outputs": [
    {
     "data": {
      "text/plain": [
       "\u001b[0;31mSignature:\u001b[0m \u001b[0mcalculaMin\u001b[0m\u001b[0;34m(\u001b[0m\u001b[0mx\u001b[0m\u001b[0;34m,\u001b[0m \u001b[0my\u001b[0m\u001b[0;34m,\u001b[0m \u001b[0mz\u001b[0m\u001b[0;34m)\u001b[0m\u001b[0;34m\u001b[0m\u001b[0;34m\u001b[0m\u001b[0m\n",
       "\u001b[0;31mDocstring:\u001b[0m <no docstring>\n",
       "\u001b[0;31mSource:\u001b[0m   \n",
       "\u001b[0;32mdef\u001b[0m \u001b[0mcalculaMin\u001b[0m\u001b[0;34m(\u001b[0m\u001b[0mx\u001b[0m\u001b[0;34m,\u001b[0m\u001b[0my\u001b[0m\u001b[0;34m,\u001b[0m\u001b[0mz\u001b[0m\u001b[0;34m)\u001b[0m\u001b[0;34m:\u001b[0m\u001b[0;34m\u001b[0m\n",
       "\u001b[0;34m\u001b[0m    \u001b[0;32mif\u001b[0m \u001b[0mx\u001b[0m\u001b[0;34m<\u001b[0m\u001b[0my\u001b[0m \u001b[0;32mand\u001b[0m \u001b[0mx\u001b[0m\u001b[0;34m<\u001b[0m\u001b[0mz\u001b[0m\u001b[0;34m:\u001b[0m\u001b[0;34m\u001b[0m\n",
       "\u001b[0;34m\u001b[0m        \u001b[0;32mreturn\u001b[0m \u001b[0mx\u001b[0m\u001b[0;34m\u001b[0m\n",
       "\u001b[0;34m\u001b[0m    \u001b[0;32mif\u001b[0m \u001b[0my\u001b[0m\u001b[0;34m<\u001b[0m\u001b[0mx\u001b[0m \u001b[0;32mand\u001b[0m \u001b[0my\u001b[0m\u001b[0;34m<\u001b[0m\u001b[0mz\u001b[0m\u001b[0;34m:\u001b[0m\u001b[0;34m\u001b[0m\n",
       "\u001b[0;34m\u001b[0m        \u001b[0;32mreturn\u001b[0m \u001b[0my\u001b[0m\u001b[0;34m\u001b[0m\n",
       "\u001b[0;34m\u001b[0m    \u001b[0;32mif\u001b[0m \u001b[0mz\u001b[0m\u001b[0;34m<\u001b[0m\u001b[0mx\u001b[0m \u001b[0;32mand\u001b[0m \u001b[0mz\u001b[0m\u001b[0;34m<\u001b[0m\u001b[0my\u001b[0m\u001b[0;34m:\u001b[0m\u001b[0;34m\u001b[0m\n",
       "\u001b[0;34m\u001b[0m        \u001b[0;32mreturn\u001b[0m \u001b[0mz\u001b[0m\u001b[0;34m\u001b[0m\u001b[0;34m\u001b[0m\u001b[0m\n",
       "\u001b[0;31mFile:\u001b[0m      /var/folders/j1/kz3z3tjs3hs4p05v1648fvs00000gn/T/ipykernel_1474/700518946.py\n",
       "\u001b[0;31mType:\u001b[0m      function\n"
      ]
     },
     "metadata": {},
     "output_type": "display_data"
    }
   ],
   "source": [
    "def calculaMin(x,y,z):\n",
    "    if x<y and x<z:\n",
    "        return x\n",
    "    if y<x and y<z:\n",
    "        return y\n",
    "    if z<x and z<y:\n",
    "        return z\n",
    "    \n",
    "calculaMin(5,6,7)\n",
    "\n",
    "calculaMin??"
   ]
  },
  {
   "cell_type": "code",
   "execution_count": 45,
   "id": "7ed559a4-b3c5-49a6-aa01-cce9b86b3d54",
   "metadata": {},
   "outputs": [
    {
     "name": "stdout",
     "output_type": "stream",
     "text": [
      "lado 11000103\n",
      "lado 2999039\n",
      "lado 31000153\n",
      "lado 4999824\n",
      "lado 51000640\n",
      "lado 61000241\n"
     ]
    }
   ],
   "source": [
    "import random \n",
    "\n",
    "def tiraDado():\n",
    "    return random.randrange(1,7)\n",
    "\n",
    "def contar():\n",
    "    lado1=0\n",
    "    lado2=0\n",
    "    lado3=0\n",
    "    lado4=0\n",
    "    lado5=0\n",
    "    lado6=0\n",
    "    \n",
    "    for i in range(1,6000001):\n",
    "        roll = tiraDado()\n",
    "        \n",
    "        if roll == 1:\n",
    "            lado1 += 1\n",
    "        elif roll == 2:\n",
    "            lado2 += 1\n",
    "        elif roll == 3:\n",
    "            lado3 += 1\n",
    "        elif roll == 4:\n",
    "            lado4 += 1\n",
    "        elif roll == 5:\n",
    "            lado5 += 1\n",
    "        elif roll == 6:\n",
    "            lado6 += 1\n",
    "\n",
    "    print(f\"lado 1{lado1}\")\n",
    "    print(f\"lado 2{lado2}\")\n",
    "    print(f\"lado 3{lado3}\")\n",
    "    print(f\"lado 4{lado4}\")\n",
    "    print(f\"lado 5{lado5}\")\n",
    "    print(f\"lado 6{lado6}\")\n",
    "    \n",
    "\n",
    "contar()\n",
    "        "
   ]
  },
  {
   "cell_type": "code",
   "execution_count": 46,
   "id": "cc694f2b-7239-4c8b-a422-189b3557eb78",
   "metadata": {},
   "outputs": [
    {
     "name": "stdout",
     "output_type": "stream",
     "text": [
      "lado 1:  998724\n",
      "lado 2:  999680\n",
      "lado 3:  999676\n",
      "lado 4:  1000037\n",
      "lado 5:  1002012\n",
      "lado 6:  999870\n"
     ]
    }
   ],
   "source": [
    "import random \n",
    "\n",
    "def tiraDado():\n",
    "    return random.randrange(1,7)\n",
    "\n",
    "def contar():\n",
    "    dado = {\"lado 1\" : 0,\"lado 2\" :0,\"lado 3\":0,\"lado 4\": 0,\"lado 5\" :0,\"lado 6\":0}\n",
    "    \n",
    "    for i in range(1,6000000):\n",
    "        roll = tiraDado()\n",
    "        \n",
    "        if roll == 1:\n",
    "            dado[\"lado 1\"] += 1\n",
    "        elif roll == 2:\n",
    "            dado[\"lado 2\"] += 1\n",
    "        elif roll == 3:\n",
    "            dado[\"lado 3\"] += 1\n",
    "        elif roll == 4:\n",
    "            dado[\"lado 4\"] += 1\n",
    "        elif roll == 5:\n",
    "            dado[\"lado 5\"] += 1\n",
    "        elif roll == 6:\n",
    "            dado[\"lado 6\"] += 1\n",
    "\n",
    "    print(f\"lado 1:  {dado['lado 1']}\")\n",
    "    print(f\"lado 2:  {dado['lado 2']}\")\n",
    "    print(f\"lado 3:  {dado['lado 3']}\")\n",
    "    print(f\"lado 4:  {dado['lado 4']}\")\n",
    "    print(f\"lado 5:  {dado['lado 5']}\")\n",
    "    print(f\"lado 6:  {dado['lado 6']}\")\n",
    "\n",
    "    \n",
    "\n",
    "contar()"
   ]
  },
  {
   "cell_type": "code",
   "execution_count": 47,
   "id": "ec862b09-73fb-4375-8c7c-dd77dd804805",
   "metadata": {},
   "outputs": [
    {
     "data": {
      "text/plain": [
       "'\\nimport random\\n\\ndef TiraDados():\\n    dado1 = random.randrange(1,7)\\n    dado2 = random.randrange(1,7)\\n    return dado1,dado2\\ndef ImprimeDados(dados):\\n    dado1,dado2 = dados\\n    print(\"dado 1\",dado1)\\n    print(\"dado 2\",dado2)\\n    print(\"suma\",sum(dados))\\n    suma= (sum(dados))\\n    return suma\\n    \\ndef EvaluaJuego(suma):\\n    if suma == 7:\\n        print(\"Ganaste\")\\n    elif suma==11:\\n        print(\"Ganaste\")\\n    elif suma==2:\\n        print(\"Perdiste\")\\n    elif suma==3:\\n        print(\"Perdiste\")\\n    elif suma==12:\\n        print(\"Perdiste\")\\n    else:\\n        point(suma)\\n\\ndef point(control):\\n    print(\"Entraste a point\")\\n    suma=0\\n    lanzamiento= 0\\n\\n    while (control!=suma):\\n        lanzamiento +=1\\n        print(f\"Lanzamiento: {lanzamiento}\")\\n        dadosPoint = TiraDados()\\n        suma = sum(dadosPoint)\\n        if (suma==7):\\n            print(\"Perdiste\")\\n            tiro1,tiro2 = dadosPoint\\n            print(f\"Tiro 1: {tiro1}\")\\n            print(f\"Tiro 2: {tiro2}\")\\n\\n            print(f\"Suma:  {suma}\")\\n            break\\n        elif suma == control:\\n            tiro1,tiro2 = dadosPoint\\n            print(f\"Tiro 1: {tiro1}\")\\n            print(f\"Tiro 2: {tiro2}\")\\n            print(\"Ganaste\", control)\\n\\n            print(f\"Suma:  {suma}\")\\n            break\\n        else:\\n            tiro1,tiro2 = dadosPoint\\n            print(f\"Tiro 1: {tiro1}\")\\n            print(f\"Tiro 2: {tiro2}\")\\n\\n            print(f\"Suma:  {suma}\")\\n     \\n    \\ndados=TiraDados()\\nresultado = ImprimeDados(dados)\\nEvaluaJuego(resultado)\\n'"
      ]
     },
     "execution_count": 47,
     "metadata": {},
     "output_type": "execute_result"
    }
   ],
   "source": [
    "#2 dados estos dados distintas formas de ganar o perder \n",
    "#si nos sale un 7 o 11 en la primer tirada se gana\n",
    "#si la suma de los dos 2 3 o 12 pierdes primera tirada\n",
    "#4 5 6 8 9 o 10 va hacer un point\n",
    "#y vas a jugar gasta que salga esa combinacion ganas\n",
    "\"\"\"\n",
    "import random\n",
    "\n",
    "def TiraDados():\n",
    "    dado1 = random.randrange(1,7)\n",
    "    dado2 = random.randrange(1,7)\n",
    "    return dado1,dado2\n",
    "def ImprimeDados(dados):\n",
    "    dado1,dado2 = dados\n",
    "    print(\"dado 1\",dado1)\n",
    "    print(\"dado 2\",dado2)\n",
    "    print(\"suma\",sum(dados))\n",
    "    suma= (sum(dados))\n",
    "    return suma\n",
    "    \n",
    "def EvaluaJuego(suma):\n",
    "    if suma == 7:\n",
    "        print(\"Ganaste\")\n",
    "    elif suma==11:\n",
    "        print(\"Ganaste\")\n",
    "    elif suma==2:\n",
    "        print(\"Perdiste\")\n",
    "    elif suma==3:\n",
    "        print(\"Perdiste\")\n",
    "    elif suma==12:\n",
    "        print(\"Perdiste\")\n",
    "    else:\n",
    "        point(suma)\n",
    "\n",
    "def point(control):\n",
    "    print(\"Entraste a point\")\n",
    "    suma=0\n",
    "    lanzamiento= 0\n",
    "\n",
    "    while (control!=suma):\n",
    "        lanzamiento +=1\n",
    "        print(f\"Lanzamiento: {lanzamiento}\")\n",
    "        dadosPoint = TiraDados()\n",
    "        suma = sum(dadosPoint)\n",
    "        if (suma==7):\n",
    "            print(\"Perdiste\")\n",
    "            tiro1,tiro2 = dadosPoint\n",
    "            print(f\"Tiro 1: {tiro1}\")\n",
    "            print(f\"Tiro 2: {tiro2}\")\n",
    "\n",
    "            print(f\"Suma:  {suma}\")\n",
    "            break\n",
    "        elif suma == control:\n",
    "            tiro1,tiro2 = dadosPoint\n",
    "            print(f\"Tiro 1: {tiro1}\")\n",
    "            print(f\"Tiro 2: {tiro2}\")\n",
    "            print(\"Ganaste\", control)\n",
    "\n",
    "            print(f\"Suma:  {suma}\")\n",
    "            break\n",
    "        else:\n",
    "            tiro1,tiro2 = dadosPoint\n",
    "            print(f\"Tiro 1: {tiro1}\")\n",
    "            print(f\"Tiro 2: {tiro2}\")\n",
    "\n",
    "            print(f\"Suma:  {suma}\")\n",
    "     \n",
    "    \n",
    "dados=TiraDados()\n",
    "resultado = ImprimeDados(dados)\n",
    "EvaluaJuego(resultado)\n",
    "\"\"\"\n",
    "    "
   ]
  },
  {
   "cell_type": "code",
   "execution_count": 48,
   "id": "fbcb6004-e2e1-478b-afd6-64f6b35ff78b",
   "metadata": {},
   "outputs": [
    {
     "data": {
      "text/plain": [
       "'\\ndef ProbabilidadGanar():\\n    aux = 0\\n    for x in range(1,7):\\n        for y in range(1,7):\\n            suma = x+y\\n            if (suma == 7 or suma == 11):\\n                aux += 1\\n                      \\n    print(aux)\\n    prob = (100*aux)/36\\n    return prob\\n\\n\\ndef ProbabilidadPerder():\\n    aux = 0\\n    for x in range(1,7):\\n        for y in range(1,7):\\n            suma = x+y\\n            if (suma == 2 or suma == 3 or suma ==12):\\n                aux += 1\\n    print(aux)\\n    prob = (100*aux)/36\\n    return prob\\n\\ndef ProbabilidadSeguir():\\n    aux = 0\\n    for x in range(1,7):\\n        for y in range(1,7):\\n            suma = x+y\\n            if (suma == 4 or suma == 5 or suma ==6 or suma == 8 or suma == 9 or suma ==10):\\n                aux += 1\\n    print(aux)\\n    prob = (100*aux)/36\\n    return prob\\n\\n\\n    \\n\\nwin = ProbabilidadGanar()\\nlose =ProbabilidadPerder()\\nkeep= ProbabilidadSeguir()\\n\\nprint(f\"Ganar: {win}\")\\nprint(f\"Perder: {lose}\")\\nprint(f\"Seguir: {keep}\")\\n\\nprint(f\"Probabilidad total {win+lose+keep}\")\\n\\n'"
      ]
     },
     "execution_count": 48,
     "metadata": {},
     "output_type": "execute_result"
    }
   ],
   "source": [
    "\"\"\"cual es la probabilidad que no salgan numeros ganadores, perdedores, y los que repites el juego\"\"\"  \n",
    "\"\"\"\n",
    "def ProbabilidadGanar():\n",
    "    aux = 0\n",
    "    for x in range(1,7):\n",
    "        for y in range(1,7):\n",
    "            suma = x+y\n",
    "            if (suma == 7 or suma == 11):\n",
    "                aux += 1\n",
    "                      \n",
    "    print(aux)\n",
    "    prob = (100*aux)/36\n",
    "    return prob\n",
    "\n",
    "\n",
    "def ProbabilidadPerder():\n",
    "    aux = 0\n",
    "    for x in range(1,7):\n",
    "        for y in range(1,7):\n",
    "            suma = x+y\n",
    "            if (suma == 2 or suma == 3 or suma ==12):\n",
    "                aux += 1\n",
    "    print(aux)\n",
    "    prob = (100*aux)/36\n",
    "    return prob\n",
    "\n",
    "def ProbabilidadSeguir():\n",
    "    aux = 0\n",
    "    for x in range(1,7):\n",
    "        for y in range(1,7):\n",
    "            suma = x+y\n",
    "            if (suma == 4 or suma == 5 or suma ==6 or suma == 8 or suma == 9 or suma ==10):\n",
    "                aux += 1\n",
    "    print(aux)\n",
    "    prob = (100*aux)/36\n",
    "    return prob\n",
    "\n",
    "\n",
    "    \n",
    "\n",
    "win = ProbabilidadGanar()\n",
    "lose =ProbabilidadPerder()\n",
    "keep= ProbabilidadSeguir()\n",
    "\n",
    "print(f\"Ganar: {win}\")\n",
    "print(f\"Perder: {lose}\")\n",
    "print(f\"Seguir: {keep}\")\n",
    "\n",
    "print(f\"Probabilidad total {win+lose+keep}\")\n",
    "\n",
    "\"\"\"\n",
    "                    "
   ]
  },
  {
   "cell_type": "code",
   "execution_count": 49,
   "id": "4b6fedb5-c5aa-437f-956e-eebf8a400a6a",
   "metadata": {},
   "outputs": [
    {
     "data": {
      "text/plain": [
       "'\\n\\ndef PrimerTiroProbabilidades():\\n    auxGanar = 0\\n    auxPerder = 0\\n    auxSeguir = 0\\n    for x in range(1,7):\\n        for y in range(1,7):\\n            suma = x+y\\n            if (suma == 7 or suma == 11):\\n                auxGanar += 1\\n            elif(suma == 2 or suma == 3 or suma ==12):\\n                auxPerder  += 1\\n            elif(suma != 7 and suma != 11 and suma !=2 and suma != 3 and suma != 12):\\n                auxSeguir += 1\\n            else:\\n                print(\"Ocurrio un error\")\\n                \\n    print(\"Prbabilidad entre 36 posibles valores\")\\n                      \\n    print(f\"Ganar {auxGanar}/36\")\\n    print(f\"Perder {auxPerder}/36\")\\n    print(f\"Seguir {auxSeguir}/36\")\\n\\n    probGanar = (100/36)*auxGanar\\n    probPerder = (100/36)*auxPerder\\n    probSeguir = (100/36)*auxSeguir\\n\\n\\n    return probGanar,probPerder,probSeguir\\n\\n\\nprob = PrimerTiroProbabilidades()\\nwin,lose,keep = prob\\nprint(f\"Probabilidad de ganar: {win: .2f}%\")\\nprint(f\"Probabilidad de perder: {lose: .2f}%\")\\nprint(f\"Probabilidad de seguir: {keep: .2f}%\")\\n\\n'"
      ]
     },
     "execution_count": 49,
     "metadata": {},
     "output_type": "execute_result"
    }
   ],
   "source": [
    "\"\"\"\n",
    "\n",
    "def PrimerTiroProbabilidades():\n",
    "    auxGanar = 0\n",
    "    auxPerder = 0\n",
    "    auxSeguir = 0\n",
    "    for x in range(1,7):\n",
    "        for y in range(1,7):\n",
    "            suma = x+y\n",
    "            if (suma == 7 or suma == 11):\n",
    "                auxGanar += 1\n",
    "            elif(suma == 2 or suma == 3 or suma ==12):\n",
    "                auxPerder  += 1\n",
    "            elif(suma != 7 and suma != 11 and suma !=2 and suma != 3 and suma != 12):\n",
    "                auxSeguir += 1\n",
    "            else:\n",
    "                print(\"Ocurrio un error\")\n",
    "                \n",
    "    print(\"Prbabilidad entre 36 posibles valores\")\n",
    "                      \n",
    "    print(f\"Ganar {auxGanar}/36\")\n",
    "    print(f\"Perder {auxPerder}/36\")\n",
    "    print(f\"Seguir {auxSeguir}/36\")\n",
    "\n",
    "    probGanar = (100/36)*auxGanar\n",
    "    probPerder = (100/36)*auxPerder\n",
    "    probSeguir = (100/36)*auxSeguir\n",
    "\n",
    "\n",
    "    return probGanar,probPerder,probSeguir\n",
    "\n",
    "\n",
    "prob = PrimerTiroProbabilidades()\n",
    "win,lose,keep = prob\n",
    "print(f\"Probabilidad de ganar: {win: .2f}%\")\n",
    "print(f\"Probabilidad de perder: {lose: .2f}%\")\n",
    "print(f\"Probabilidad de seguir: {keep: .2f}%\")\n",
    "\n",
    "\"\"\""
   ]
  },
  {
   "cell_type": "code",
   "execution_count": 50,
   "id": "21d589d0-8bc2-493e-8306-fea02536cc39",
   "metadata": {},
   "outputs": [
    {
     "data": {
      "text/plain": [
       "'\\nestudiante = (\"Sergio\",[80,100,90,100])\\n\\nsuma = sum(estudiante[1])\\nvalores = len(estudiante[1])\\nprint(f\"El promedio de {estudiante[0]} es {suma/valores}\")\\n\\n\\nnombre, calificaciones = estudiante\\n\\nprom = statistics.mean(calificaciones)\\n\\nprint(f\"El promedio de {nombre} es: {prom}\")\\n\\n\\n'"
      ]
     },
     "execution_count": 50,
     "metadata": {},
     "output_type": "execute_result"
    }
   ],
   "source": [
    "import statistics\n",
    "\"\"\"\n",
    "estudiante = (\"Sergio\",[80,100,90,100])\n",
    "\n",
    "suma = sum(estudiante[1])\n",
    "valores = len(estudiante[1])\n",
    "print(f\"El promedio de {estudiante[0]} es {suma/valores}\")\n",
    "\n",
    "\n",
    "nombre, calificaciones = estudiante\n",
    "\n",
    "prom = statistics.mean(calificaciones)\n",
    "\n",
    "print(f\"El promedio de {nombre} es: {prom}\")\n",
    "\n",
    "\n",
    "\"\"\""
   ]
  },
  {
   "cell_type": "code",
   "execution_count": 51,
   "id": "8513e3f1-a630-4f4d-8baf-5f6d7dda7e8d",
   "metadata": {},
   "outputs": [
    {
     "data": {
      "text/plain": [
       "3.0"
      ]
     },
     "execution_count": 51,
     "metadata": {},
     "output_type": "execute_result"
    }
   ],
   "source": [
    "import math\n",
    "math.floor(9.2)\n",
    "math.ceil(9.2)\n",
    "math.pow(3,3)\n",
    "math.sqrt(25)\n",
    "math.pow(27,1/3)\n",
    "\n"
   ]
  },
  {
   "cell_type": "code",
   "execution_count": 52,
   "id": "9bd8034d-0306-4e59-8ba1-c16ca0b1b8a7",
   "metadata": {},
   "outputs": [
    {
     "data": {
      "text/plain": [
       "21"
      ]
     },
     "execution_count": 52,
     "metadata": {},
     "output_type": "execute_result"
    }
   ],
   "source": [
    "\"\"\"Función para encontrar el area de un rectangulo\"\"\"\n",
    "import math\n",
    "def AreaRectangulo(base,altura):\n",
    "    area = base*altura\n",
    "    return area\n",
    "\n",
    "\n",
    "AreaRectangulo(7,3)\n",
    "\n"
   ]
  },
  {
   "cell_type": "code",
   "execution_count": 53,
   "id": "a033730b-6f1b-49fe-b369-03e3b3036f68",
   "metadata": {},
   "outputs": [
    {
     "name": "stdout",
     "output_type": "stream",
     "text": [
      "Global: no ok\n"
     ]
    }
   ],
   "source": [
    "glo = \"ok\"\n",
    "\n",
    "def imprime():\n",
    "    global glo\n",
    "    glo = \"no ok\"\n",
    "    print(f\"Global: {glo}\")\n",
    "    \n",
    "imprime()"
   ]
  },
  {
   "cell_type": "code",
   "execution_count": 54,
   "id": "d9a3a21f-c563-4e64-82a1-05264b6c0690",
   "metadata": {},
   "outputs": [
    {
     "name": "stdout",
     "output_type": "stream",
     "text": [
      "6\n",
      "5\n"
     ]
    }
   ],
   "source": [
    "from math import ceil,floor\n",
    "\n",
    "print(math.ceil(5.5))\n",
    "print(math.floor(5.9))"
   ]
  },
  {
   "cell_type": "code",
   "execution_count": 55,
   "id": "653712a6-1c06-497a-b1b8-3e45a3bbd31d",
   "metadata": {},
   "outputs": [
    {
     "name": "stdout",
     "output_type": "stream",
     "text": [
      "2.718281828459045\n"
     ]
    }
   ],
   "source": [
    "e=\"ok\"\n",
    "from math import * \n",
    "\n",
    "print(e)\n"
   ]
  },
  {
   "cell_type": "code",
   "execution_count": 56,
   "id": "95b9e471-a714-4df7-8eb7-61b1a35254aa",
   "metadata": {},
   "outputs": [
    {
     "data": {
      "text/plain": [
       "3"
      ]
     },
     "execution_count": 56,
     "metadata": {},
     "output_type": "execute_result"
    }
   ],
   "source": [
    "import statistics as STO\n",
    "\n",
    "list = [1,2,3,4,5]\n",
    "\n",
    "STO.median(list)"
   ]
  },
  {
   "cell_type": "code",
   "execution_count": 57,
   "id": "25be71e7-6a4a-469d-9931-544a812136d1",
   "metadata": {},
   "outputs": [
    {
     "name": "stdout",
     "output_type": "stream",
     "text": [
      "140644475660656\n",
      "140644475660656\n",
      "id: 140644475660656 numero:3\n",
      "Modificados\n",
      "id: 140644481881680 numero: 27.0\n"
     ]
    }
   ],
   "source": [
    "import math\n",
    "\n",
    "def cubo(num):\n",
    "    \n",
    "    a = pow(num,3)\n",
    "    print(id(num))\n",
    "    \n",
    "    print(f\"id: {id(num)} numero:{num}\")\n",
    "    \n",
    "    num = pow(3,3)\n",
    "    print(\"Modificados\")\n",
    "    \n",
    "    print(f\"id: {id(num)} numero: {num}\")\n",
    "    \n",
    "    return a\n",
    "x = 3\n",
    "print(id(x))\n",
    "y= cubo(x)\n"
   ]
  },
  {
   "cell_type": "code",
   "execution_count": 58,
   "id": "2dac9b2a-371d-431b-ba52-d158f9257a00",
   "metadata": {},
   "outputs": [
    {
     "name": "stdout",
     "output_type": "stream",
     "text": [
      "Varianza con función: 59.7283950617284 \n",
      "Deviación con función : 7.728414783235201\n",
      "\n",
      "Varianza manual: 59.72839506172839\n",
      "Desviación manual: 7.7284147832352\n"
     ]
    }
   ],
   "source": [
    "import statistics as sto\n",
    "import math\n",
    "\n",
    "list = [22,22,23,23,23,23,23,21,47]\n",
    "x =sto.mean(list)\n",
    "aux = 0\n",
    "\n",
    "print(f\"Varianza con función: {sto.pvariance(list)} \")\n",
    "\n",
    "\n",
    "\n",
    "print(f\"Deviación con función : {sto.pstdev(list)}\")\n",
    "\n",
    "print(\"\")\n",
    "for y in list:\n",
    "    aux += ((y-x)**2)\n",
    "    \n",
    "print(f\"Varianza manual: {aux/len(list)}\")\n",
    "\n",
    "print(f\"Desviación manual: {math.sqrt(aux/len(list))}\")\n",
    "\n",
    "    \n"
   ]
  },
  {
   "cell_type": "code",
   "execution_count": 59,
   "id": "f3dcd08b-1c1b-497c-8d98-1fbfac6f4506",
   "metadata": {},
   "outputs": [
    {
     "data": {
      "text/plain": [
       "-0.3333333333333333"
      ]
     },
     "execution_count": 59,
     "metadata": {},
     "output_type": "execute_result"
    }
   ],
   "source": [
    "\n",
    "def pendienteCurva(lis):\n",
    "    x1,x2,y1,y2 = lis\n",
    "    m = (y2-y1)/(x2-x1)\n",
    "    return m\n",
    "\n",
    "lis = [0,3,1,0]\n",
    "pendienteCurva(lis)\n",
    "    "
   ]
  },
  {
   "cell_type": "code",
   "execution_count": 60,
   "id": "1fc8939a-c9b8-4e35-b7dd-a2dd25257de0",
   "metadata": {},
   "outputs": [
    {
     "data": {
      "text/plain": [
       "-0.3333333333333333"
      ]
     },
     "execution_count": 60,
     "metadata": {},
     "output_type": "execute_result"
    }
   ],
   "source": [
    "def pendienteCurva(*args):\n",
    "    x1,x2,y1,y2 = args\n",
    "    m = (y2-y1)/(x2-x1)\n",
    "    return m\n",
    "\n",
    "pendienteCurva(0,3,1,0)"
   ]
  },
  {
   "cell_type": "code",
   "execution_count": 61,
   "id": "a7e9f3be-6972-4c82-a298-381088ce9e15",
   "metadata": {},
   "outputs": [
    {
     "name": "stdout",
     "output_type": "stream",
     "text": [
      "[0, 3, 1, 0]\n"
     ]
    }
   ],
   "source": [
    "\n",
    "\n",
    "\n",
    "lisN = []\n",
    "lisA = []\n",
    "lis\n",
    "x = \"Sergio\"\n",
    "y = \"Rodríguez\"\n",
    "for i in x:\n",
    "    lisN += i\n",
    "for j in y:\n",
    "    lisA += j\n",
    "\n",
    "\n",
    "    \n",
    "print(lis)\n",
    "    \n",
    "\n",
    "\n"
   ]
  },
  {
   "cell_type": "code",
   "execution_count": 62,
   "id": "1417f3d8-b927-4bdb-b9c4-4e7914d55250",
   "metadata": {},
   "outputs": [
    {
     "name": "stdout",
     "output_type": "stream",
     "text": [
      "Nombre : ['S', 'e', 'r', 'g', 'i', 'o']\n",
      "Apellido : ['R', 'o', 'd', 'r', 'í', 'g', 'u', 'e', 'z']\n",
      "Nombre completo : ['S', 'e', 'r', 'g', 'i', 'o', 'R', 'o', 'd', 'r', 'í', 'g', 'u', 'e', 'z']\n",
      "indice 0 S\n",
      "indice 1 e\n",
      "indice 2 r\n",
      "indice 3 g\n",
      "indice 4 i\n",
      "indice 5 o\n",
      "indice 6 R\n",
      "indice 7 o\n",
      "indice 8 d\n",
      "indice 9 r\n",
      "indice 10 í\n",
      "indice 11 g\n",
      "indice 12 u\n",
      "indice 13 e\n",
      "indice 14 z\n"
     ]
    }
   ],
   "source": [
    "\"\"\"Sin for\"\"\"\n",
    "lisN = []\n",
    "lisA = []\n",
    "lisC = []\n",
    "x = \"Sergio\"\n",
    "y = \"Rodríguez\"\n",
    "\n",
    "lisN +=x \n",
    "lisA +=y\n",
    "\n",
    "lisC = lisN+lisA\n",
    "\n",
    "    \n",
    "print(f\"Nombre : {lisN }\")\n",
    "print(f\"Apellido : {lisA}\")\n",
    "print(f\"Nombre completo : {lisC}\")\n",
    "\n",
    "for i in range(0,len(lisC)):\n",
    "    print(f\"indice {i} {lisC[i]}\")\n",
    "\n",
    "    \n",
    "\n"
   ]
  },
  {
   "cell_type": "code",
   "execution_count": 63,
   "id": "d52142c0-f17c-4d26-bb9e-163eeb6afba1",
   "metadata": {},
   "outputs": [
    {
     "data": {
      "text/plain": [
       "True"
      ]
     },
     "execution_count": 63,
     "metadata": {},
     "output_type": "execute_result"
    }
   ],
   "source": [
    "\"\"\"Sin for\"\"\"\n",
    "lis1 = [1,2,3]\n",
    "lis2 = [1,2,3]\n",
    "lis3 = [1,2,3,4]\n",
    "\n",
    "lis3>=lis2\n",
    "\n",
    "\n"
   ]
  },
  {
   "cell_type": "code",
   "execution_count": 64,
   "id": "211060a7-9ca7-41ef-82c6-81333e4eb4ef",
   "metadata": {},
   "outputs": [
    {
     "name": "stdout",
     "output_type": "stream",
     "text": [
      "1\n",
      "2\n",
      "3\n",
      "4\n",
      "5\n",
      "[1, 8, 27, 64, 125]\n"
     ]
    }
   ],
   "source": [
    "import math\n",
    "\n",
    "def elevarAlCubo(lista):\n",
    "    alCubo = []\n",
    "    for i in lista:\n",
    "        print(i)\n",
    "        alCubo.append(i**3)\n",
    "    return alCubo\n",
    "        \n",
    "lista =  [1,2,3,4,5]   \n",
    "print(elevarAlCubo(lista))\n"
   ]
  },
  {
   "cell_type": "code",
   "execution_count": 65,
   "id": "f0819961-0de3-419e-8f4b-5a152884ab8e",
   "metadata": {},
   "outputs": [
    {
     "name": "stdout",
     "output_type": "stream",
     "text": [
      "1\n",
      ",\n",
      "2\n",
      ",\n",
      "3\n",
      ",\n",
      "4\n",
      ",\n",
      "5\n",
      "['1', ',', '2', ',', '3', ',', '4', ',', '5']\n"
     ]
    }
   ],
   "source": [
    "import math\n",
    "\n",
    "def elevarAlCubo(lista):\n",
    "    alCubo = []\n",
    "    for i in lista:\n",
    "        print(i)\n",
    "        alCubo+=i\n",
    "    return alCubo\n",
    "        \n",
    "lista =  \"1,2,3,4,5\"   \n",
    "print(elevarAlCubo(lista))\n"
   ]
  },
  {
   "cell_type": "code",
   "execution_count": 66,
   "id": "7f7d9f5a-acb8-4c27-9c1e-847867d906e2",
   "metadata": {},
   "outputs": [
    {
     "data": {
      "text/plain": [
       "'\\ntup =(\"Sergio\",\"Rodriguez\",1.72)\\ntup2 =(\"Faquin\")\\n\\n\\ntup2+=(\"Hernandez\",3.0)\\nprint(tup2)\\n'"
      ]
     },
     "execution_count": 66,
     "metadata": {},
     "output_type": "execute_result"
    }
   ],
   "source": [
    "\"\"\"\n",
    "tup =(\"Sergio\",\"Rodriguez\",1.72)\n",
    "tup2 =(\"Faquin\")\n",
    "\n",
    "\n",
    "tup2+=(\"Hernandez\",3.0)\n",
    "print(tup2)\n",
    "\"\"\"\n",
    "\n"
   ]
  },
  {
   "cell_type": "code",
   "execution_count": 67,
   "id": "768c572c-0eb3-4e3c-b86c-edf9d9f0b25e",
   "metadata": {},
   "outputs": [
    {
     "name": "stdout",
     "output_type": "stream",
     "text": [
      "[2, 9, 45, 7, 12]\n",
      "[2, 9, 45, 7, 12, 'oshopinosho', 32]\n"
     ]
    }
   ],
   "source": [
    "lista= [2,9,45,7,12]\n",
    "print(lista)\n",
    "\n",
    "lista+=((\"oshopinosho\",32))\n",
    "print(lista)\n",
    "\n"
   ]
  },
  {
   "cell_type": "code",
   "execution_count": 68,
   "id": "d415190a-d22a-48c1-892a-4f9d83431fb9",
   "metadata": {},
   "outputs": [
    {
     "name": "stdout",
     "output_type": "stream",
     "text": [
      "('Sergio', 'Rodríguez', [100, 85, 70, 60, 100])\n",
      "('Sergio', 'Rodríguez', [100, 85, 100, 60, 100])\n"
     ]
    }
   ],
   "source": [
    "tupla = (\"Sergio\",\"Rodríguez\",[100,85,70,60,100])\n",
    "print(tupla)\n",
    "tupla[2][2]=100\n",
    "print(tupla)\n"
   ]
  },
  {
   "cell_type": "code",
   "execution_count": 69,
   "id": "70d2a480-d2ce-4b4e-af0f-66da7188ca6e",
   "metadata": {},
   "outputs": [
    {
     "name": "stdout",
     "output_type": "stream",
     "text": [
      "[1, 2, 3, 'Sergio', 'Rodriguez']\n"
     ]
    }
   ],
   "source": [
    "lis= [1,2,3]\n",
    "tup=(\"Sergio\",\"Rodriguez\")\n",
    "lis+=tup\n",
    "print(lis)"
   ]
  },
  {
   "cell_type": "code",
   "execution_count": 70,
   "id": "9d9c219a-0840-423c-8782-eb028f85ee71",
   "metadata": {},
   "outputs": [
    {
     "name": "stdout",
     "output_type": "stream",
     "text": [
      "x es: valor1 y y es:valor2\n",
      "valor2 valor1\n",
      "('valor2', 'valor1')\n",
      "x es: valor2 y y es:valor1\n"
     ]
    }
   ],
   "source": [
    "x = \"valor1\"\n",
    "y= \"valor2\"\n",
    "print(f\"x es: {x} y y es:{y}\" )\n",
    "y,x = x,y\n",
    "\n",
    "pack = x,y\n",
    "\n",
    "i,j = pack\n",
    "print(i,j)\n",
    "\n",
    "print(pack)\n",
    "print(f\"x es: {x} y y es:{y}\" )"
   ]
  },
  {
   "cell_type": "code",
   "execution_count": 71,
   "id": "47e4ee1d-e427-4e71-871f-620a9ea8a5c4",
   "metadata": {},
   "outputs": [
    {
     "name": "stdout",
     "output_type": "stream",
     "text": [
      "Sergio\n",
      "Rodríguez\n",
      "[100, 85, 70, 60, 100]\n"
     ]
    }
   ],
   "source": [
    "tupla = (\"Sergio\",\"Rodríguez\",[100,85,70,60,100])\n",
    "name,lastname,lis = tupla\n",
    "print(f\"{name}\\n{lastname}\\n{lis}\")\n",
    "\n",
    "\n"
   ]
  },
  {
   "cell_type": "code",
   "execution_count": 72,
   "id": "37f9f80a-e4d7-4df5-850e-26e4b744bc90",
   "metadata": {},
   "outputs": [
    {
     "name": "stdout",
     "output_type": "stream",
     "text": [
      "0 Alberto\n",
      "1 Jesus\n",
      "2 Brenda\n"
     ]
    }
   ],
   "source": [
    "lis = [\"Alberto\",\"Jesus\",\"Brenda\"]\n",
    "\n",
    "\n",
    "for i,valor in enumerate(lis):\n",
    "    print(i,valor)\n",
    "    "
   ]
  },
  {
   "cell_type": "code",
   "execution_count": 73,
   "id": "635c6d8b-69ab-449c-a8f6-d8a55443fba9",
   "metadata": {},
   "outputs": [
    {
     "name": "stdout",
     "output_type": "stream",
     "text": [
      "((0, 'Alberto'), (1, 'Jesus'), (2, 'Brenda'))\n",
      "0 Alberto\n",
      "1 Jesus\n",
      "2 Brenda\n"
     ]
    }
   ],
   "source": [
    "lis = [\"Alberto\",\"Jesus\",\"Brenda\"]\n",
    "\n",
    "print(tuple(enumerate(lis)))\n",
    "\n",
    "for i,valor in enumerate(lis):\n",
    "    print(i,valor)\n",
    "    "
   ]
  },
  {
   "cell_type": "code",
   "execution_count": 74,
   "id": "2c68a584-68b0-450b-9b85-e8b6cf2a31c7",
   "metadata": {},
   "outputs": [
    {
     "name": "stdout",
     "output_type": "stream",
     "text": [
      "SS\n"
     ]
    }
   ],
   "source": [
    "letra = \"S\"\n",
    "print(letra*2)"
   ]
  },
  {
   "cell_type": "code",
   "execution_count": 75,
   "id": "d70bb400-88db-4fd6-904e-d6e9f4f9190e",
   "metadata": {},
   "outputs": [
    {
     "name": "stdout",
     "output_type": "stream",
     "text": [
      "0 22 **********************\n",
      "1 22 **********************\n",
      "2 23 ***********************\n",
      "3 23 ***********************\n",
      "4 23 ***********************\n",
      "5 23 ***********************\n",
      "6 23 ***********************\n",
      "7 21 *********************\n",
      "8 47 ***********************************************\n"
     ]
    }
   ],
   "source": [
    "list = [22,22,23,23,23,23,23,21,47]\n",
    "\n",
    "for i,valor in enumerate(list):\n",
    "    print(i,valor,valor*'*')\n",
    "    "
   ]
  },
  {
   "cell_type": "code",
   "execution_count": 76,
   "id": "a7360bf7-401b-4844-b613-aa2130fb0f01",
   "metadata": {},
   "outputs": [
    {
     "name": "stdout",
     "output_type": "stream",
     "text": [
      "[5, 7, 11, 13]\n",
      "[2, 3, 5, 7, 11, 13]\n",
      "[17, 19]\n",
      "[17, 19]\n",
      "[2, 3, 5, 7, 11, 13, 17, 19]\n",
      "[2, 5, 11, 17]\n",
      "[19, 17, 13, 11, 7, 5, 3, 2]\n",
      "[19, 17, 13, 11, 7, 5, 3, 2]\n",
      "['dos', 'tres', 'cinco', 7, 11, 13, 17, 19]\n",
      "[7, 11, 13, 17, 19]\n",
      "[100, 11, 100, 17, 100]\n",
      "[]\n",
      "[]\n",
      "[]\n",
      "[]\n",
      "[]\n"
     ]
    }
   ],
   "source": [
    "lis= [2,3,5,7,11,13,17,19]\n",
    "\"\"\"segmentar la lista, del valor en indice 2 al 6\"\"\"\n",
    "print(lis[2:6])\n",
    "\"\"\"segmentar la lista, hasta indice final(comienza 0 por defecto)\"\"\"\n",
    "print(lis[:6])\n",
    "\"\"\"segmentar la lista, desde indice especificado hasta final\"\"\"\n",
    "print(lis[6:])\n",
    "\"\"\"segmentar la lista, del valor en indice 2 al final\"\"\"\n",
    "print(lis[6:len(lis)])\n",
    "\"\"\"todos los valores\"\"\"\n",
    "print(lis[:])\n",
    "\"\"\"CON SALTO DE 2\"\"\"\n",
    "print(lis[::2])\n",
    "\"\"\"IMPRESIÓN INVERSA\"\"\"\n",
    "print(lis[::-1])\n",
    "\"\"\"SEGMENTAR DESDE -9, HASTA -1, CON SALTO DE -1\"\"\"\n",
    "print(lis[-1:-9:-1])\n",
    "\n",
    "\"\"\"Asignar nuevos valores\"\"\"\n",
    "lis[:3] = \"dos\",\"tres\",\"cinco\"\n",
    "print(lis)\n",
    "\n",
    "\"\"\"Borrar tres elementos\"\"\"\n",
    "\n",
    "lis[:3] = [] #añadiendo a lista vacia\n",
    "print(lis)\n",
    "\n",
    "\"\"\"Ingresar 100, entre cada número, comenzando desde el inicio con 100\"\"\"\n",
    "\n",
    "lis[::2]=[100,100,100] \n",
    "print(lis)\n",
    "\n",
    "\"\"\"Dejar lista vacia\"\"\"\n",
    "lis[::]=[]\n",
    "print(lis)\n",
    "\n",
    "\n",
    "\n",
    "\"\"\"crear lista con numeros del 1-15\"\"\"\n",
    "print(lis)\n",
    "\n",
    "\n",
    "\"\"\"Imprimir pares\"\"\"\n",
    "print(lis[1::2])\n",
    "\"\"\"reemplazar 5-9 con 0\"\"\"\n",
    "\n",
    "\n",
    "lis[5:10]=[0]*len(lis[5:10])\n",
    "print(lis) \n",
    "\n",
    "\"\"\"Vaciarla\"\"\"\n",
    "\n",
    "lis[:]=[]\n",
    "print(lis)\n",
    "\n",
    "\n"
   ]
  },
  {
   "cell_type": "code",
   "execution_count": 77,
   "id": "b96cc7db-4880-47ca-877d-714e4c5ca632",
   "metadata": {},
   "outputs": [
    {
     "ename": "TypeError",
     "evalue": "'list' object is not callable",
     "output_type": "error",
     "traceback": [
      "\u001b[0;31m---------------------------------------------------------------------------\u001b[0m",
      "\u001b[0;31mTypeError\u001b[0m                                 Traceback (most recent call last)",
      "\u001b[0;32m/var/folders/j1/kz3z3tjs3hs4p05v1648fvs00000gn/T/ipykernel_1474/3828591772.py\u001b[0m in \u001b[0;36m<module>\u001b[0;34m\u001b[0m\n\u001b[0;32m----> 1\u001b[0;31m \u001b[0mlis\u001b[0m \u001b[0;34m=\u001b[0m \u001b[0mlist\u001b[0m\u001b[0;34m(\u001b[0m\u001b[0mrange\u001b[0m\u001b[0;34m(\u001b[0m\u001b[0;36m0\u001b[0m\u001b[0;34m,\u001b[0m\u001b[0;36m10\u001b[0m\u001b[0;34m)\u001b[0m\u001b[0;34m)\u001b[0m\u001b[0;34m\u001b[0m\u001b[0;34m\u001b[0m\u001b[0m\n\u001b[0m\u001b[1;32m      2\u001b[0m \u001b[0mprint\u001b[0m\u001b[0;34m(\u001b[0m\u001b[0mlis\u001b[0m\u001b[0;34m)\u001b[0m\u001b[0;34m\u001b[0m\u001b[0;34m\u001b[0m\u001b[0m\n\u001b[1;32m      3\u001b[0m \u001b[0;34m\u001b[0m\u001b[0m\n\u001b[1;32m      4\u001b[0m \u001b[0;32mdel\u001b[0m \u001b[0mlis\u001b[0m\u001b[0;34m[\u001b[0m\u001b[0;34m-\u001b[0m\u001b[0;36m1\u001b[0m\u001b[0;34m]\u001b[0m\u001b[0;34m\u001b[0m\u001b[0;34m\u001b[0m\u001b[0m\n\u001b[1;32m      5\u001b[0m \u001b[0mprint\u001b[0m\u001b[0;34m(\u001b[0m\u001b[0mlis\u001b[0m\u001b[0;34m)\u001b[0m\u001b[0;34m\u001b[0m\u001b[0;34m\u001b[0m\u001b[0m\n",
      "\u001b[0;31mTypeError\u001b[0m: 'list' object is not callable"
     ]
    }
   ],
   "source": [
    "lis = list(range(0,10))\n",
    "print(lis)\n",
    "\n",
    "del lis[-1]\n",
    "print(lis)\n",
    "\n",
    "del lis[:2]\n",
    "print(lis)\n",
    "\n",
    "del lis[::2]\n",
    "print(lis)"
   ]
  },
  {
   "cell_type": "code",
   "execution_count": null,
   "id": "eeb20820-d52b-4351-876a-314702f8fc2f",
   "metadata": {},
   "outputs": [],
   "source": [
    "def duplicaLista(lis):\n",
    "    for i in range(len(lis)):\n",
    "        lis[i] = lis[i]**2\n",
    "    \n",
    "    return lis\n",
    "    \n",
    "lis = [1,2,3,4,5]\n",
    "elevados = duplicaLista(lis)\n",
    "print(elevados)\n"
   ]
  },
  {
   "cell_type": "code",
   "execution_count": null,
   "id": "995b9eaa-47dc-4275-8cca-dafea735bdac",
   "metadata": {},
   "outputs": [],
   "source": [
    "lis = [22,22,23,23,23,23,23,21,47]\n",
    "lis.sort(reverse=True)\n",
    "print(lis)"
   ]
  },
  {
   "cell_type": "code",
   "execution_count": null,
   "id": "6b9fe113-3047-44f7-b1f4-de445d2baeb6",
   "metadata": {},
   "outputs": [],
   "source": [
    "lis = [22,22,23,23,23,23,23,21,47]\n",
    "newLis= sorted(lis)\n",
    "print(newLis)\n"
   ]
  },
  {
   "cell_type": "code",
   "execution_count": null,
   "id": "7c123923-93e1-4baf-9079-d83b52e8a3ca",
   "metadata": {},
   "outputs": [],
   "source": [
    "names = [\"Alferez\",\"Brenda\",\"Sergio\",\"Emiliano\",\"Jesus\",\"Cabe\",\"Juan\",\"Juan Carlos\"]\n",
    "newLis = sorted(names,reverse=True)\n",
    "print(newLis)\n",
    "\n",
    "print(newLis.index(\"Alferez\",7,len(names)))"
   ]
  },
  {
   "cell_type": "code",
   "execution_count": null,
   "id": "067ccfc0-f789-4cd3-93ed-a746ea22493b",
   "metadata": {},
   "outputs": [],
   "source": [
    "names = [\"Alferez\",\"Brenda\",\"Sergio\",\"Emiliano\",\"Jesus\",\"Cabe\",\"Juan\",\"Juan Carlos\"]\n",
    "\n",
    "for i in names:\n",
    "    if(i==\"Sergio\"):\n",
    "        print(f\"existe en la posición {names.index(i)}\")"
   ]
  },
  {
   "cell_type": "code",
   "execution_count": null,
   "id": "cfdac996-fe90-4831-8ff1-cc1459cba067",
   "metadata": {},
   "outputs": [],
   "source": [
    "names = [\"Alferez\",\"Brenda\",\"Sergio\",\"Emiliano\",\"Jesus\",\"Cabe\",\"Juan\",\"Juan Carlos\"]\n",
    "\n",
    "if \"Sergio\" in names:\n",
    "    print(names.index(\"Sergio\"))"
   ]
  },
  {
   "cell_type": "code",
   "execution_count": null,
   "id": "fc45e535-a54b-4e48-bf21-4bb7f0450d5f",
   "metadata": {},
   "outputs": [],
   "source": [
    "names = [\"Alferez\",\"Brenda\",\"Sergio\",\"Emiliano\",\"Jesus\",\"Cabe\",\"Juan\",\"Juan Carlos\"]\n",
    "names.insert(0,\"Thomas\")\n",
    "print(names)\n",
    "#al final\n",
    "names.append(\"Al final\")\n",
    "print(names)"
   ]
  },
  {
   "cell_type": "code",
   "execution_count": null,
   "id": "00bcd31b-7fc8-4a30-b909-a68f71a039fb",
   "metadata": {},
   "outputs": [],
   "source": [
    "names = [\"Alferez\",\"Brenda\",\"Sergio\",\"Emiliano\",\"Jesus\",\"Cabe\",\"Juan\",\"Juan Carlos\"]\n",
    "bye= [\"Ximena\",\"Jesus\"]\n",
    "\n",
    "names.extend(bye)\n",
    "\n",
    "print(names)\n",
    "\n",
    "names.clear()\n",
    "print(names)"
   ]
  },
  {
   "cell_type": "code",
   "execution_count": null,
   "id": "7d35f525-3b09-4f43-98ee-da75da5cdf96",
   "metadata": {},
   "outputs": [],
   "source": [
    "import random \n",
    "\n",
    "def TiraDado():\n",
    "    dado = random.randrange(1,7)\n",
    "    return dado;\n",
    "\n",
    "lis = []\n",
    "for i in range(10):\n",
    "    lis.append(TiraDado())\n",
    "    \n",
    "for i in range(1,7):\n",
    "    print(f\"Cara {i} salió {lis.count(i)}\")\n",
    "    \n",
    "print(lis)\n",
    "lis.reverse()\n",
    "print(lis)\n",
    "\n",
    "lisNew =[]\n",
    "lisNew=lis.copy()\n",
    "\n",
    "print(lisNew)\n",
    "    "
   ]
  },
  {
   "cell_type": "code",
   "execution_count": null,
   "id": "43f71edf-62c3-45f5-af33-5e24c363b5b3",
   "metadata": {},
   "outputs": [],
   "source": [
    "lis=[]\n",
    "for i in range(1,11):\n",
    "    lis.insert(len(lis),i)\n",
    "    \n",
    "print(lis)"
   ]
  },
  {
   "cell_type": "code",
   "execution_count": null,
   "id": "d531191d-8c1f-4c13-a3ed-e5401ba156d8",
   "metadata": {},
   "outputs": [],
   "source": [
    "\"\"\"Lista por compresión\"\"\"\n",
    "\n",
    "lis=[i for i in range(1,11)  if(i%2==0)]\n",
    "print(lis)\n",
    "\n",
    "newLis= [i*2 for i in lis]\n",
    "print(newLis)"
   ]
  },
  {
   "cell_type": "code",
   "execution_count": null,
   "id": "8fb2d19f-4d7c-4550-9796-c306789db724",
   "metadata": {},
   "outputs": [],
   "source": [
    "names = [\"Alferez\",\"Brenda\",\"Sergio\",\"Emiliano\",\"Jesus\",\"Cabe\",\"Juan\",\"Juan Carlos\"]\n",
    "namesMayus = [i.upper() for i in names]\n",
    "\n",
    "print(namesMayus)\n"
   ]
  },
  {
   "cell_type": "code",
   "execution_count": null,
   "id": "ce8e0133-e125-444e-b3d4-cd8e39551700",
   "metadata": {},
   "outputs": [],
   "source": [
    "tupla = (2,4)\n",
    "\n",
    "cubos = [(i,i**3) for i in range(1,7)]\n",
    "    \n",
    "print(cubos)"
   ]
  },
  {
   "cell_type": "code",
   "execution_count": null,
   "id": "de582217-b16e-474e-a406-be285975c329",
   "metadata": {},
   "outputs": [],
   "source": [
    "lis = [i for i in range(3,31,3)]\n",
    "print(lis)"
   ]
  },
  {
   "cell_type": "code",
   "execution_count": null,
   "id": "f5fcd459-3b5c-4fd3-82d4-6392727c61a8",
   "metadata": {},
   "outputs": [],
   "source": [
    "\"\"\"lista, elevar al cubo y solo pares estarán en la lista de compresión\"\"\"\n",
    "\n",
    "print([i**3 for i in [10,3,7,1,9,4,2] if((i**3%2==0))])"
   ]
  },
  {
   "cell_type": "code",
   "execution_count": null,
   "id": "67c52b8b-9333-4bb1-80c1-12f77a25f6c2",
   "metadata": {},
   "outputs": [],
   "source": [
    "lis = [10,3,7,1,9,4,2,8,5,6]\n",
    "\n",
    "\n",
    "def esImpar(lis):\n",
    "    return [True for i in lis if i%2!=0]\n",
    "\n",
    "print(esImpar(lis))"
   ]
  },
  {
   "cell_type": "code",
   "execution_count": null,
   "id": "ed8f10dc-5c98-4587-85a7-57dae1d81a13",
   "metadata": {},
   "outputs": [],
   "source": [
    "lis = [10,3,7,1,9,4,2,8,5,6]\n",
    "\n",
    "\n",
    "def esImpar(lis):\n",
    "    return [True for i in lis if i%2!=0]\n",
    "\n",
    "print(esImpar(lis))"
   ]
  },
  {
   "cell_type": "code",
   "execution_count": null,
   "id": "082af8a6-2229-4abf-be3e-1ba61faa8027",
   "metadata": {},
   "outputs": [],
   "source": [
    "x=2\n",
    "def impar(x):\n",
    "    return x%2!=0\n",
    "    \n",
    "print(impar(x))"
   ]
  },
  {
   "cell_type": "code",
   "execution_count": null,
   "id": "c39f9aec-c2fd-43ae-b1d1-aedcec2e8bd7",
   "metadata": {},
   "outputs": [],
   "source": [
    "lis = [10,3,7,1,9,4,2,8,5,6]\n",
    "print(list(filter(impar,lis)))\n"
   ]
  },
  {
   "cell_type": "code",
   "execution_count": null,
   "id": "604a98e5-740c-438a-aad2-ba5bcd04a646",
   "metadata": {},
   "outputs": [],
   "source": [
    "lis = [10,3,7,1,9,4,2,8,5,6]\n",
    "\n",
    "print([i for i in lis if(impar(i))])"
   ]
  },
  {
   "cell_type": "code",
   "execution_count": null,
   "id": "231f69b3-14b4-4b5d-ab83-87af77962d91",
   "metadata": {},
   "outputs": [],
   "source": [
    "lis = [10,3,7,1,9,4,2,8,5,6]\n",
    "list(filter(lambda x:x%2!=0, lis))"
   ]
  },
  {
   "cell_type": "code",
   "execution_count": null,
   "id": "e75e0df6-f809-423f-b47e-db376097fd92",
   "metadata": {},
   "outputs": [],
   "source": [
    "lis = [10,3,7,1,9,4,2,8,5,6]\n",
    "\n",
    "list(map(lambda x:x**2, lis))"
   ]
  },
  {
   "cell_type": "code",
   "execution_count": null,
   "id": "f2a37fbe-3750-44e0-b754-5fa54c9b43e4",
   "metadata": {},
   "outputs": [],
   "source": [
    "[i**2 for i in lis]"
   ]
  },
  {
   "cell_type": "code",
   "execution_count": null,
   "id": "1e972079-0d98-47de-b55f-341543d85e2a",
   "metadata": {},
   "outputs": [],
   "source": [
    "lis = [10,3,7,1,9,4,2,8,5,6]\n",
    "\n",
    "list(map(lambda x:x**2,filter(lambda x: x%2!=0,lis)))"
   ]
  },
  {
   "cell_type": "code",
   "execution_count": null,
   "id": "81f6538d-bb1d-4c6c-a4cf-1b419ff3938f",
   "metadata": {},
   "outputs": [],
   "source": [
    "lis = [10,3,7,1,9,4,2,8,5,6]\n",
    "lisNew=[i**2 for i in lis if i%2!=0]\n",
    "print(lisNew)\n"
   ]
  },
  {
   "cell_type": "code",
   "execution_count": null,
   "id": "f4ed10a0-89d6-4025-ad03-1553d8edb821",
   "metadata": {},
   "outputs": [],
   "source": [
    "lis = [10,3,7,1,9,4,2,8,5,6]\n",
    "lisNew=[i for i in reversed(lis)]\n",
    "print(lisNew)"
   ]
  },
  {
   "cell_type": "code",
   "execution_count": null,
   "id": "7e4786a4-5414-416f-9a6b-dc6c55425f78",
   "metadata": {},
   "outputs": [],
   "source": [
    "lis = [10,3,7,1,9,4,2,8,5,6]\n",
    "mapeada = (lambda x: x%2!=0,lis)\n",
    "filtrado = lambda x:x**2,filter(mapeada)\n",
    "\n",
    "list(map(filtrado))"
   ]
  },
  {
   "cell_type": "code",
   "execution_count": null,
   "id": "a2bbb413-319b-47ff-adf2-2379509eec33",
   "metadata": {},
   "outputs": [],
   "source": [
    "lis = [[77,68,86,73],\n",
    "      [96,87,89,81],\n",
    "      [70,90,86,81]]\n",
    "\n",
    "\n",
    "#print(lis[1][2])\n",
    "#lis[0][0]=77\n",
    "s1=\"Fila\"\n",
    "s2=\"Columna\" \n",
    "s3=\"Calificación\" \n",
    "empty= \"\";\n",
    "    \n",
    "print(f\"{empty:>5}{s1:<5}{empty:>5}{s2}{empty:>5}{s3}{empty:>5}\")\n",
    "    \n",
    "print(\"----------------------------------------\")\n",
    "\n",
    "for pos0,i in enumerate(lis):\n",
    "    \n",
    "   \n",
    "    for pos1,j in enumerate(i):\n",
    "        print(f\"||{pos0 :> 10}||{pos1 :>10}||{j:>10}  ||\")"
   ]
  },
  {
   "cell_type": "code",
   "execution_count": null,
   "id": "fdf063f3-99dd-4ef6-84c5-3e2e02d69716",
   "metadata": {},
   "outputs": [],
   "source": [
    "cod_est = {\"Aguascalientes\":\"Ags\",\"Baja California Norte\":\"BCN\", \"Baja California Sur\":\"BCS\"}\n",
    "\n",
    "len(cod_est)\n",
    "if cod_est:\n",
    "    print(\"Tiene valores\")\n",
    "else:\n",
    "    print(\"No tiene valores\")\n",
    "          \n",
    "          \n",
    "print(len(cod_est))"
   ]
  },
  {
   "cell_type": "code",
   "execution_count": null,
   "id": "af482c9a-5f07-41b3-9048-bb89e7e4a799",
   "metadata": {},
   "outputs": [],
   "source": [
    "for nombre, codigo in cod_est.items():\n",
    "    print(nombre,codigo)\n",
    "    "
   ]
  },
  {
   "cell_type": "code",
   "execution_count": null,
   "id": "c4d41bc3-ae5a-40b6-9b2c-c7e5817901ee",
   "metadata": {},
   "outputs": [],
   "source": [
    "romanos = {\"I\":1,\"IV\":4,\"V\":5,\"X\":10, \"C\":100}\n",
    "print(romanos['V'])\n",
    "llave='L'\n",
    "romanos[llave]=50\n",
    "print(romanos)\n",
    "romanos['V']=\"cinco\"\n",
    "print(romanos)\n",
    "del romanos['L']\n",
    "print(romanos)\n",
    "\n",
    "print(romanos.get('L'))\n"
   ]
  },
  {
   "cell_type": "code",
   "execution_count": null,
   "id": "64249755-8adf-4cbc-a93b-3f68ccbe56f6",
   "metadata": {},
   "outputs": [],
   "source": [
    "cod_est = {\"Aguascalientes\":\"Ags\",\"Baja California Norte\":\"BCN\", \"Baja California Sur\":\"BCS\"}\n",
    "\n",
    "\n",
    "\n",
    "##Devuelve llaves\n",
    "for i in cod_est.keys():\n",
    "    print(i)\n",
    "    \n",
    "#Devuelve valores\n",
    "for i in cod_est.values():\n",
    "    print(i)\n",
    "    \n",
    "##listas \n",
    "\"\"\"\n",
    "lis0=[i for i in cod_est.keys()]\n",
    "\n",
    "lis1=[i for i in cod_est.values()]\n",
    "\n",
    "lis2=[i for i in cod_est]\n",
    "\"\"\"\n",
    "\n",
    "lis0=list(cod_est.keys())\n",
    "lis1=list(cod_est.values())\n",
    "lis2=list(cod_est.items())\n",
    "\n",
    "print(f\"Lista 1 {lis0} \\n Lista 2 {lis1} \\n Lista 3  {lis2}\")\n",
    "\n",
    "lis0.reverse()\n",
    "print(lis0)\n",
    "\n",
    "\n",
    "\n",
    "    \n"
   ]
  },
  {
   "cell_type": "code",
   "execution_count": null,
   "id": "0fce6c7c-f15a-46a3-beb4-145ef51b535c",
   "metadata": {},
   "outputs": [],
   "source": [
    "import statistics\n",
    "datos = {\"Emiliano\":[23,165,59000],\"Juan\":[21,176,86000],\"Dario\":[23,162,80000],\"Miguel\":[23,183,115000]}\n",
    "\n",
    "#promedio de edad estatura y peso\n",
    "\n",
    "#edad\n",
    "values = list(datos.values())\n",
    "edad= 0\n",
    "peso =0\n",
    "estatura=0\n",
    "for i in values:\n",
    "    edad += i[0]\n",
    "    estatura +=i[1]\n",
    "    peso += i[2]\n",
    "    \n",
    "    \n",
    "    \n",
    "promedioEdad = edad/len(values)\n",
    "promedioPeso = peso/len(values)\n",
    "promedioEstatura = estatura/len(values)\n",
    "\n",
    "\n",
    "print(f\" promedio edad: {promedioEdad} \\n promedio peso: {promedioPeso} \\n promedio estatura: {promedioEstatura}\")\n",
    "\n"
   ]
  },
  {
   "cell_type": "code",
   "execution_count": null,
   "id": "9f8d7df0-888d-420b-9a76-7f2d3018cc7b",
   "metadata": {},
   "outputs": [],
   "source": [
    "\"\"\"\"\"\"\n",
    "import collections \n",
    "\n",
    "texto = \"\"\"El cielo resplandece a mi alrededor alrededor\n",
    "Al volar, destellos brillan en las nubes sin fin\n",
    "Con libertad puedes cruzar hoy el cielo azul (el cielo azul)\n",
    "La verdad huye a un golpe de pronto en ti\n",
    "\n",
    "Como si un volcán hiciera una erupción\n",
    "Derrite un gran glaciar\n",
    "Podrás ver de cerca un gran dragón\n",
    "\n",
    "Cha-la head-cha-la\n",
    "No importa lo que suceda\n",
    "Siempre el ánimo mantendré\n",
    "\n",
    "Cha-la head-cha-la\n",
    "Vibrante mi corazón siente emoción\n",
    "Haré una Genkidama\n",
    "\n",
    "El cielo voy cruzando siempre con valor (con valor)\n",
    "Miraré inmensos montes que parecen sin fin\n",
    "Un paraíso oculto descubriré (descubriré)\n",
    "Con amor, por siempre, yo lo cuidaré\n",
    "\n",
    "No hay razón para angustiado estar\n",
    "Porque una sorpresa habrá\n",
    "Y voy a encontrarla en algún lugar\n",
    "\n",
    "Cha-la head-cha-la\n",
    "No importa lo que suceda\n",
    "Siempre el ánimo mantendré\n",
    "\n",
    "Cha-la head-cha-la\n",
    "Vibrante mi corazón siente emoción\n",
    "Haré una Genkidama\n",
    "\n",
    "Cha-la head-chala\n",
    "No pienses nada, solo escucha\n",
    "Sueños hay en tu corazón\n",
    "\n",
    "Cha-la head-chala\n",
    "No importa lo que suceda\n",
    "Sonreiré el día de ho-ho-ho-ho-hoy\"\"\"\n",
    "\n",
    "diccionario = {} \n",
    "textoM= texto.upper()\n",
    "for i in textoM.split():\n",
    "    \n",
    "    if i in diccionario:\n",
    "        diccionario[i]+=1\n",
    "    else:\n",
    "        diccionario[i] = 1\n",
    "\n",
    "for i,j in diccionario.items():\n",
    "    print(f\"{i: >20} | existe:| {j : >5} veces\")\n",
    "    \n",
    "diccionario2= sorted(diccionario.items())\n",
    "\n",
    "\n",
    "print(diccionario2)\n",
    "    \n",
    "\n",
    "\n"
   ]
  },
  {
   "cell_type": "code",
   "execution_count": null,
   "id": "f2d1093a-5914-4501-8b2c-d9437da53c66",
   "metadata": {},
   "outputs": [],
   "source": [
    "import collections\n",
    "from collections import Counter\n",
    "\n",
    "texto = \"\"\"El cielo resplandece a mi alrededor alrededor\n",
    "Al volar, destellos brillan en las nubes sin fin\n",
    "Con libertad puedes cruzar hoy el cielo azul (el cielo azul)\n",
    "La verdad huye a un golpe de pronto en ti\n",
    "\n",
    "Como si un volcán hiciera una erupción\n",
    "Derrite un gran glaciar\n",
    "Podrás ver de cerca un gran dragón\n",
    "\n",
    "Cha-la head-cha-la\n",
    "No importa lo que suceda\n",
    "Siempre el ánimo mantendré\n",
    "\n",
    "Cha-la head-cha-la\n",
    "Vibrante mi corazón siente emoción\n",
    "Haré una Genkidama\n",
    "\n",
    "El cielo voy cruzando siempre con valor (con valor)\n",
    "Miraré inmensos montes que parecen sin fin\n",
    "Un paraíso oculto descubriré (descubriré)\n",
    "Con amor, por siempre, yo lo cuidaré\n",
    "\n",
    "No hay razón para angustiado estar\n",
    "Porque una sorpresa habrá\n",
    "Y voy a encontrarla en algún lugar\n",
    "\n",
    "Cha-la head-cha-la\n",
    "No importa lo que suceda\n",
    "Siempre el ánimo mantendré\n",
    "\n",
    "Cha-la head-cha-la\n",
    "Vibrante mi corazón siente emoción\n",
    "Haré una Genkidama\n",
    "\n",
    "Cha-la head-chala\n",
    "No pienses nada, solo escucha\n",
    "Sueños hay en tu corazón\n",
    "\n",
    "Cha-la head-chala\n",
    "No importa lo que suceda\n",
    "Sonreiré el día de ho-ho-ho-ho-hoy\"\"\"\n",
    "\n",
    "diccionario = {} \n",
    "textoM= texto.upper()\n",
    "for i in textoM.split():\n",
    "    \n",
    "    if i in diccionario:\n",
    "        diccionario[i]+=1\n",
    "    else:\n",
    "        diccionario[i] = 1\n",
    "\n",
    "#for i,j in diccionario.items():\n",
    "#    print(f\"{i: >20} | existe:| {j : >5} veces\")  \n",
    "\n",
    "contador = Counter(texto.split())\n",
    "\n",
    "for i,j in contador.items():\n",
    "    print(i,j)"
   ]
  },
  {
   "cell_type": "code",
   "execution_count": null,
   "id": "6c775302-3871-47cd-b5de-7432df0bb187",
   "metadata": {},
   "outputs": [],
   "source": [
    "romanos={}\n",
    "romanos.update({'I':1})\n",
    "romanos.update({'X':100})\n",
    "romanos.update({'X':10})\n",
    "romanos.update({'X':10})\n",
    "romanos.update({'C':50})\n",
    "romanos.update(C=100)\n",
    "romanos['Y']=50\n",
    "\n",
    "\n",
    "\n",
    "\n",
    "\n",
    "print(romanos)"
   ]
  },
  {
   "cell_type": "code",
   "execution_count": null,
   "id": "496f6968-dcf9-4a07-aa52-632219cf8810",
   "metadata": {},
   "outputs": [],
   "source": [
    "calif = {'Sergio': [100,100,90,87], 'Carlos':[85,70,70,70]}\n",
    "\n",
    "prom = {nombre: sum(nota)/len(nota) for nombre,nota in calif.items()}\n",
    "\n",
    "print(prom)\n"
   ]
  },
  {
   "cell_type": "code",
   "execution_count": null,
   "id": "0657acd1-b775-442c-8341-e22801f25655",
   "metadata": {},
   "outputs": [],
   "source": [
    "import numpy as np\n",
    "\n",
    "lis=[1,2,3]\n",
    "\n",
    "x=np.array(lis)\n",
    "\n",
    "matriz=[[1,2,3],[4,5,6],[7,8,9]]\n",
    "type(x)\n",
    "type(matriz)\n",
    "np.arange(0,101,2)\n",
    "np.zeros(10)\n",
    "\n",
    "np.ones((2,5))\n",
    "np.ones(10)\n",
    "np.random.randint(0,101)\n",
    "\n",
    "np.linspace(0,5,21)\n",
    "\n"
   ]
  },
  {
   "cell_type": "code",
   "execution_count": null,
   "id": "1c33c005-762a-487a-ad46-cfc0e43c2ac1",
   "metadata": {},
   "outputs": [],
   "source": [
    "x= np.arange(0,25)\n",
    "x.reshape(5,5)\n"
   ]
  },
  {
   "cell_type": "code",
   "execution_count": null,
   "id": "cd570918-922c-41f0-a757-65f1fb4bcd20",
   "metadata": {},
   "outputs": [],
   "source": [
    "import numpy as np\n",
    "array = np.arange(0,11)\n",
    "array[:5]=100\n",
    "newArray =[]\n",
    "newArray=array[5:]\n",
    "newArray[:]=99\n",
    "\n",
    "newArray2=newArray.copy()\n",
    "\n",
    "\n",
    "print(newArray2)"
   ]
  },
  {
   "cell_type": "code",
   "execution_count": null,
   "id": "2dd5a591-0bc5-4e26-82cb-731fa88c4a05",
   "metadata": {},
   "outputs": [],
   "source": [
    "import numpy as np\n",
    "x= np.arange(5,46,5)\n",
    "y =x.reshape(3,3)\n",
    "\n",
    "print(y)\n",
    "\n",
    "print(y[0][1:])\n",
    "\n",
    "\n",
    "\n"
   ]
  },
  {
   "cell_type": "code",
   "execution_count": null,
   "id": "0df7158d-9ea8-4b8a-8203-a8e6e5bc1f37",
   "metadata": {},
   "outputs": [],
   "source": [
    "import numpy as np\n",
    "lis = np.arange(0,10)\n",
    "print(lis)\n",
    "print(lis+5)\n",
    "print(lis*5)\n",
    "print(lis*lis)\n",
    "print(lis-lis)\n",
    "#print(lis/lis)\n",
    "#print(1/lis)\n",
    "print(lis.sum())\n",
    "print(lis.mean())\n",
    "print(lis.min())\n",
    "print(lis.max())\n",
    "print(lis.var())\n",
    "print(lis.std())"
   ]
  },
  {
   "cell_type": "code",
   "execution_count": null,
   "id": "2009a9b0-8fdc-404b-aee0-ab4fd3ef91b9",
   "metadata": {},
   "outputs": [],
   "source": [
    "datos = np.array([[23,165,59000],[21,176,86000],[23,162,80000],[23,183,115000]])\n",
    "\n",
    "print(datos)\n",
    "datos.mean(axis=0)\n",
    "\n",
    "#axis=0 se refiere a columnas\n",
    "\n"
   ]
  },
  {
   "cell_type": "code",
   "execution_count": null,
   "id": "a7f3036a-a35b-4ee3-8129-ec8abdef7597",
   "metadata": {},
   "outputs": [],
   "source": [
    "import numpy as np\n",
    "calif = np.array([[[100,100,90,87],[85,70,70,70]]])\n",
    "\n",
    "print(calif)\n",
    "\n",
    "calif.mean(axis=1)\n",
    "#axis 1 se refiere a filas\n"
   ]
  },
  {
   "cell_type": "code",
   "execution_count": null,
   "id": "7d70d2fc-054b-4d73-9f7a-d483ccd3b6e9",
   "metadata": {},
   "outputs": [],
   "source": [
    "import pandas as pd\n",
    "\n",
    "df = pd.DataFrame({'edad':[23,21,23,23],\n",
    "                   'estatura':[1.65,1.76,1.62,1.83],\n",
    "                   'peso':[59,86,80,115],\n",
    "                   'hobbie':['football','peliculas','videojuegos','football']\n",
    "                  },index=['Emiliano','Juan','Dario','Miguel']\n",
    "                 )\n",
    "\n",
    "print(df['Juan':'Dario'])\n",
    "print(df[1:3])\n",
    "\n",
    "\n",
    "print(df.groupby('hobbie').get_group('football'))\n",
    "\n",
    "print(df.describe())\n",
    "\n"
   ]
  },
  {
   "cell_type": "code",
   "execution_count": null,
   "id": "94a11e95-d4c1-4549-a94d-5f211cd673df",
   "metadata": {},
   "outputs": [],
   "source": [
    "import numpy as np\n",
    "x = np.array([[ 1, 2, 3, 4, 5], [ 6, 7, 8, 9, 10], [11, 12, 13, 14, 15]])\n",
    "\n",
    "\n",
    "#segunda fila\n",
    "print(x[1])\n",
    "#primera y la tercera fila\n",
    "print(x[0])\n",
    "print(x[2])\n",
    "#selecciona las tres columnas del medio\n",
    "print(x[0][2])\n",
    "print(x[1][2])\n",
    "print(x[2][2])\n",
    "\n",
    "\n"
   ]
  },
  {
   "cell_type": "code",
   "execution_count": null,
   "id": "a603f09e-b7b8-426d-b0bf-f53e0f51d1de",
   "metadata": {},
   "outputs": [],
   "source": [
    "days_per_month = {'Enero': 31, 'Febrero': 28, 'Marzo': 31} \n",
    "\n",
    "for i,j in days_per_month.items():\n",
    "    print(f\"el mes {i}, tiene {j} dias\")"
   ]
  },
  {
   "cell_type": "code",
   "execution_count": null,
   "id": "0145828a-c3e9-4fdf-b9b0-a78de60734ef",
   "metadata": {},
   "outputs": [],
   "source": [
    "#Complete el código para obtener el promedio por día de las temperaturas. incluya el código completo y la ejecución.\n",
    "Temperaturas= {\n",
    "\n",
    "'Lunes': [66, 70, 74],\n",
    "\n",
    "'Martes': [50, 56, 64],\n",
    "\n",
    "'Miércoles': [75, 80, 83],\n",
    "\n",
    "'Jueves': [67, 74, 81]\n",
    "\n",
    "}\n",
    "\n",
    "for i,j in Temperaturas.items():\n",
    "    print(f\"El dia, {i} tiene una temperatura promedio de {sum(j)/len(j)}\")\n",
    "\n"
   ]
  },
  {
   "cell_type": "code",
   "execution_count": null,
   "id": "81cde208-dd94-4758-bf85-67e47ecba5ff",
   "metadata": {},
   "outputs": [],
   "source": [
    "#Use la generación de números aleatorios NumPy para crear una matriz de doce calificaciones aleatorias en el rango de 60 a 100, luego remodele el resultado en una matriz de 3 por 4. Calcule el promedio de todas las calificaciones, los promedios de las calificaciones en cada columna y los promedios de las calificaciones en cada fila.\n",
    "import numpy as np\n",
    "\n",
    "\n",
    "\n",
    "\n",
    "def getList():\n",
    "    lis = []\n",
    "    for i in range(0,12):\n",
    "        x = getCalif()\n",
    "        lis.append(x)\n",
    "    return lis\n",
    "        \n",
    "def getCalif():\n",
    "    calif = np.random.randint(60,101)\n",
    "    return calif\n",
    "\n",
    "x= getList()\n",
    "a= x[:3]\n",
    "b= x[3:6]\n",
    "c= x[6:9]\n",
    "d= x[9:12]\n",
    "\n",
    "datos = np.array([a,b,c,d])\n",
    "\n",
    "print(datos)\n",
    "\n",
    "#EJECUCIÓN\n",
    "\n",
    "print(f\"promedio de todas {datos.mean()}\")\n",
    "print(f\"promedio de columnas {datos.mean(axis=0)}\")\n",
    "print(f\"promedio de filas {datos.mean(axis=1)}\")\n",
    "\n"
   ]
  },
  {
   "cell_type": "code",
   "execution_count": null,
   "id": "ab96d023-43dc-4fb4-9696-c44e9393d4a9",
   "metadata": {},
   "outputs": [],
   "source": [
    "import numpy as np\n",
    "import pandas as pd\n",
    "def getList():\n",
    "    lis = []\n",
    "    for i in range(0,5):\n",
    "        x = getCalif()\n",
    "        lis.append(x)\n",
    "    return lis\n",
    "        \n",
    "def getCalif():\n",
    "    calif = np.random.randint(60,101)\n",
    "    return calif\n",
    "\n",
    "x= getList()\n",
    "\n",
    "df = pd.DataFrame({'temperatura':x}\n",
    "                 )\n",
    "\n",
    "print(df)\n",
    "print(df.describe())\n"
   ]
  },
  {
   "cell_type": "code",
   "execution_count": null,
   "id": "a1ca9a89-d37a-4df6-878c-f357d07da294",
   "metadata": {},
   "outputs": [],
   "source": [
    "from sklearn import (datasets,model_selection as skms, neighbors, metrics)\n",
    "import pandas as pd\n",
    "iris= datasets.load_iris()"
   ]
  },
  {
   "cell_type": "code",
   "execution_count": null,
   "id": "d5f3eb74-9090-435a-b37d-1985d695a835",
   "metadata": {},
   "outputs": [],
   "source": [
    "type(iris)"
   ]
  },
  {
   "cell_type": "code",
   "execution_count": null,
   "id": "8b0b28a5-a1da-4281-a547-cc16fb32ff4e",
   "metadata": {},
   "outputs": [],
   "source": [
    "iris"
   ]
  },
  {
   "cell_type": "code",
   "execution_count": null,
   "id": "3753ee02-fcf0-4019-ac20-946762921554",
   "metadata": {},
   "outputs": [],
   "source": [
    "print(iris.DESCR)"
   ]
  },
  {
   "cell_type": "code",
   "execution_count": null,
   "id": "2651d0d8-7a71-4d61-8593-4552288be126",
   "metadata": {},
   "outputs": [],
   "source": [
    "\n",
    "iris_df = pd.DataFrame(iris.data, columns=iris.feature_names)"
   ]
  },
  {
   "cell_type": "code",
   "execution_count": null,
   "id": "1c6a1795-4a23-4d6f-ad27-f3743a9c91d2",
   "metadata": {},
   "outputs": [],
   "source": [
    "iris_df"
   ]
  },
  {
   "cell_type": "code",
   "execution_count": null,
   "id": "1d827c1b-43a5-4113-ae1f-6974da58abf1",
   "metadata": {},
   "outputs": [],
   "source": [
    "iris_df['tgt']=iris.target"
   ]
  },
  {
   "cell_type": "code",
   "execution_count": null,
   "id": "3d9ca7c7-cef9-49bd-a9c4-9ead5cf5c2e5",
   "metadata": {},
   "outputs": [],
   "source": [
    "iris_df"
   ]
  },
  {
   "cell_type": "code",
   "execution_count": null,
   "id": "eac8e006-f2b9-4829-9221-7d99dd531699",
   "metadata": {},
   "outputs": [],
   "source": [
    "x=iris_df.iloc[:,:-1]\n",
    "print(x)"
   ]
  },
  {
   "cell_type": "code",
   "execution_count": null,
   "id": "b81152ac-4af8-4aba-8f84-4c555650d0c4",
   "metadata": {},
   "outputs": [],
   "source": [
    "y=iris_df.iloc[:,-1].values\n",
    "print(y)\n",
    "type(y)"
   ]
  },
  {
   "cell_type": "code",
   "execution_count": null,
   "id": "1468f379-f9e1-4b5f-ba3a-ccc0ef524e58",
   "metadata": {},
   "outputs": [],
   "source": [
    "x_train,x_test,y_train,y_test = skms.train_test_split(x,y,test_size= .25,stratify=y,random_state=0)"
   ]
  },
  {
   "cell_type": "code",
   "execution_count": null,
   "id": "cbe5b966-88a4-4b6d-a894-f1f671f0235c",
   "metadata": {},
   "outputs": [],
   "source": [
    "x_train"
   ]
  },
  {
   "cell_type": "code",
   "execution_count": null,
   "id": "8b0f1245-3cae-4021-a582-25515114362f",
   "metadata": {},
   "outputs": [],
   "source": [
    "y_train"
   ]
  },
  {
   "cell_type": "code",
   "execution_count": null,
   "id": "7cfab8a5-0084-4e48-8a51-4cc27a19b3fd",
   "metadata": {},
   "outputs": [],
   "source": [
    "x_test"
   ]
  },
  {
   "cell_type": "code",
   "execution_count": null,
   "id": "6a93db27-4a7a-436f-bc51-3df5984f514a",
   "metadata": {},
   "outputs": [],
   "source": [
    "y_test"
   ]
  },
  {
   "cell_type": "code",
   "execution_count": null,
   "id": "7d9bae93-a994-4349-b22e-b35949255c12",
   "metadata": {},
   "outputs": [],
   "source": [
    "\"\"\"Pruebas\"\"\"\n",
    "#clasificador knn\n",
    "model = neighbors.KNeighborsClassifier()\n",
    "#entrenamiento\n",
    "model.fit(x_train,y_train)\n",
    "\n",
    "#mandamos datos a predecir e imprimimos \n",
    "\n",
    "predicciones= model.predict(x_test)\n",
    "\n",
    "\n",
    "j=metrics.accuracy_score(predicciones,y_test)\n",
    "\n",
    "\n",
    "\n",
    "print(j)\n",
    "\n",
    "\n",
    "\n",
    "\n",
    "\n"
   ]
  },
  {
   "cell_type": "code",
   "execution_count": null,
   "id": "d1cab003-2613-4ac0-8407-e971885bd63a",
   "metadata": {},
   "outputs": [],
   "source": [
    "pwd"
   ]
  },
  {
   "cell_type": "code",
   "execution_count": null,
   "id": "304591ac-82d0-4222-bdae-ecf7d8b342e4",
   "metadata": {},
   "outputs": [],
   "source": []
  }
 ],
 "metadata": {
  "kernelspec": {
   "display_name": "Python 3 (ipykernel)",
   "language": "python",
   "name": "python3"
  },
  "language_info": {
   "codemirror_mode": {
    "name": "ipython",
    "version": 3
   },
   "file_extension": ".py",
   "mimetype": "text/x-python",
   "name": "python",
   "nbconvert_exporter": "python",
   "pygments_lexer": "ipython3",
   "version": "3.9.13"
  }
 },
 "nbformat": 4,
 "nbformat_minor": 5
}
